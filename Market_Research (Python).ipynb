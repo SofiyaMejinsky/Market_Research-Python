{
 "cells": [
  {
   "cell_type": "markdown",
   "metadata": {},
   "source": [
    "Project 8"
   ]
  },
  {
   "cell_type": "markdown",
   "metadata": {},
   "source": [
    "# Project description  \n",
    "  \n",
    "Market research on establishments in Los Angeles in order to attract investors. Idea: small robot-run cafe in Los Angeles."
   ]
  },
  {
   "cell_type": "markdown",
   "metadata": {},
   "source": [
    "### Table of Contents: <a class=\"anchor\" id=\"contents\"></a>\n",
    "\n",
    "#### [1. Preparing environment and uploading data](#chapter1)\n",
    "   * [1.1 Importing packages](#chapter2)\n",
    "   * [1.2 Loading and optimizing datasets](#chapter3)\n",
    "   \n",
    "#### [2. Studying the general information](#chapter4)\n",
    "   * [Conclusion](#chapter21)  \n",
    "   \n",
    "#### [3. Data preprocessing](#chapter5)\n",
    "   * [3.1 Processing name of the establishment](#chapter6)\n",
    "   * [3.2 Processing information about chain/not chain establishment](#chapter7)\n",
    "   * [3.3 Processing establishment type](#chapter8)\n",
    "   * [3.4 Processing addresses of the establishment](#chapter9)\n",
    "   * [Conclusion](#chapter10)\n",
    "   \n",
    "#### [4. Data analysis](#chapter11)\n",
    "   * [4.1 Investigating the proportions of the various types of establishments](#chapter12)\n",
    "   * [4.2 Investigating the proportions of chain and nonchain establishments](#chapter13)   \n",
    "   * [4.3 Finding which type of establishment is typically a chain](#chapter14)   \n",
    "   * [4.4 Finding out what characterizes chains](#chapter15)   \n",
    "   * [4.5 Determining the average number of seats](#chapter16)   \n",
    "   * [4.6 Plotting a graph of the top ten streets by number of restaurants](#chapter17)   \n",
    "   * [4.7 Finding the number of streets that only have one restaurant](#chapter18)   \n",
    "   * [4.8 Looking at the distribution of the number of seats for streets with a lot of restaurants](#chapter19)   \n",
    "   * [Overall conclusion](#chapter20) \n",
    "   \n",
    "#### [5. Presentation](#chapter22) "
   ]
  },
  {
   "cell_type": "markdown",
   "metadata": {},
   "source": [
    "### 1.  Preparing environment and uploading data <a class=\"anchor\" id=\"chapter1\"></a>"
   ]
  },
  {
   "cell_type": "markdown",
   "metadata": {},
   "source": [
    "#### 1.1 Importing packages <a class=\"anchor\" id=\"chapter2\"></a>"
   ]
  },
  {
   "cell_type": "code",
   "execution_count": 2,
   "metadata": {},
   "outputs": [],
   "source": [
    "import pandas as pd\n",
    "import numpy as np\n",
    "from scipy import stats as st\n",
    "import matplotlib.pyplot as plt\n",
    "import seaborn as sns\n",
    "import re\n",
    "import random\n",
    "import usaddress\n",
    "from plotly import graph_objects as go"
   ]
  },
  {
   "cell_type": "markdown",
   "metadata": {},
   "source": [
    "[Back to the Table of Contents](#contents)"
   ]
  },
  {
   "cell_type": "markdown",
   "metadata": {},
   "source": [
    "#### 1.2 Loading and optimizing datasets <a class=\"anchor\" id=\"chapter3\"></a>"
   ]
  },
  {
   "cell_type": "code",
   "execution_count": 5,
   "metadata": {},
   "outputs": [],
   "source": [
    "#reading csv\n",
    "rest_data_path = 'test'\n",
    "#downloading parts of data sets\n",
    "df = pd.read_csv(rest_data_path, nrows=500)"
   ]
  },
  {
   "cell_type": "code",
   "execution_count": 6,
   "metadata": {},
   "outputs": [
    {
     "data": {
      "text/html": [
       "<div>\n",
       "<style scoped>\n",
       "    .dataframe tbody tr th:only-of-type {\n",
       "        vertical-align: middle;\n",
       "    }\n",
       "\n",
       "    .dataframe tbody tr th {\n",
       "        vertical-align: top;\n",
       "    }\n",
       "\n",
       "    .dataframe thead th {\n",
       "        text-align: right;\n",
       "    }\n",
       "</style>\n",
       "<table border=\"1\" class=\"dataframe\">\n",
       "  <thead>\n",
       "    <tr style=\"text-align: right;\">\n",
       "      <th></th>\n",
       "      <th>id</th>\n",
       "      <th>object_name</th>\n",
       "      <th>address</th>\n",
       "      <th>chain</th>\n",
       "      <th>object_type</th>\n",
       "      <th>number</th>\n",
       "    </tr>\n",
       "  </thead>\n",
       "  <tbody>\n",
       "    <tr>\n",
       "      <td>176</td>\n",
       "      <td>11962</td>\n",
       "      <td>MASHTI ICE CREAM</td>\n",
       "      <td>1525 N LA BREA AVE</td>\n",
       "      <td>False</td>\n",
       "      <td>Restaurant</td>\n",
       "      <td>16</td>\n",
       "    </tr>\n",
       "  </tbody>\n",
       "</table>\n",
       "</div>"
      ],
      "text/plain": [
       "        id       object_name             address  chain object_type  number\n",
       "176  11962  MASHTI ICE CREAM  1525 N LA BREA AVE  False  Restaurant      16"
      ]
     },
     "execution_count": 6,
     "metadata": {},
     "output_type": "execute_result"
    }
   ],
   "source": [
    "df.sample()"
   ]
  },
  {
   "cell_type": "markdown",
   "metadata": {},
   "source": [
    "The table contains:\n",
    "- object_name — establishment name;\n",
    "- chain — chain establishment (TRUE/FALSE);\n",
    "- object_type — establishment type;\n",
    "- address — address;\n",
    "- number — number of seats."
   ]
  },
  {
   "cell_type": "code",
   "execution_count": 7,
   "metadata": {},
   "outputs": [
    {
     "name": "stdout",
     "output_type": "stream",
     "text": [
      "<class 'pandas.core.frame.DataFrame'>\n",
      "RangeIndex: 500 entries, 0 to 499\n",
      "Data columns (total 6 columns):\n",
      "id             500 non-null int64\n",
      "object_name    500 non-null object\n",
      "address        500 non-null object\n",
      "chain          500 non-null bool\n",
      "object_type    500 non-null object\n",
      "number         500 non-null int64\n",
      "dtypes: bool(1), int64(2), object(3)\n",
      "memory usage: 113.8 KB\n"
     ]
    }
   ],
   "source": [
    "#cecking information about the table\n",
    "df.info(memory_usage='deep')"
   ]
  },
  {
   "cell_type": "markdown",
   "metadata": {},
   "source": [
    "Size of the 500 rows of downloaded data is 113.8 kb. Table are quite heavy.   \n",
    "I will check how to optimize data:  "
   ]
  },
  {
   "cell_type": "code",
   "execution_count": 8,
   "metadata": {},
   "outputs": [
    {
     "data": {
      "text/plain": [
       "Restaurant    378\n",
       "Fast Food      61\n",
       "Bakery         19\n",
       "Bar            15\n",
       "Pizza          14\n",
       "Cafe           13\n",
       "Name: object_type, dtype: int64"
      ]
     },
     "execution_count": 8,
     "metadata": {},
     "output_type": "execute_result"
    }
   ],
   "source": [
    "df.object_type.value_counts()"
   ]
  },
  {
   "cell_type": "markdown",
   "metadata": {},
   "source": [
    "- Column 'object_type' contains six establishment types(categories).   \n",
    "Pandas has a special type for such data: category. It looks a lot like text but uses considerably less space than object data type."
   ]
  },
  {
   "cell_type": "code",
   "execution_count": 9,
   "metadata": {},
   "outputs": [],
   "source": [
    "#changing format\n",
    "df['object_type'] = df['object_type'].astype('category')"
   ]
  },
  {
   "cell_type": "code",
   "execution_count": 10,
   "metadata": {},
   "outputs": [
    {
     "name": "stdout",
     "output_type": "stream",
     "text": [
      "<class 'pandas.core.frame.DataFrame'>\n",
      "RangeIndex: 500 entries, 0 to 499\n",
      "Data columns (total 6 columns):\n",
      "id             500 non-null int64\n",
      "object_name    500 non-null object\n",
      "address        500 non-null object\n",
      "chain          500 non-null bool\n",
      "object_type    500 non-null category\n",
      "number         500 non-null int64\n",
      "dtypes: bool(1), category(1), int64(2), object(2)\n",
      "memory usage: 82.4 KB\n"
     ]
    }
   ],
   "source": [
    "#checking result\n",
    "df.info(memory_usage='deep')"
   ]
  },
  {
   "cell_type": "markdown",
   "metadata": {},
   "source": [
    "Now our DataFrame is 82.4 kilobytes instead of 113.8.  "
   ]
  },
  {
   "cell_type": "markdown",
   "metadata": {},
   "source": [
    "I will download full data sets with the optimized data types in columns:\n",
    "   - dtype - this parameter changes data type in columns."
   ]
  },
  {
   "cell_type": "code",
   "execution_count": 11,
   "metadata": {},
   "outputs": [],
   "source": [
    "#df = pd.read_csv(rest_data_path, dtype={'object_type': 'category'})\n",
    "df = pd.read_csv(rest_data_path)"
   ]
  },
  {
   "cell_type": "markdown",
   "metadata": {},
   "source": [
    "Data set was downloaded with optimized data types."
   ]
  },
  {
   "cell_type": "markdown",
   "metadata": {},
   "source": [
    "[Back to the Table of Contents](#contents)"
   ]
  },
  {
   "cell_type": "markdown",
   "metadata": {},
   "source": [
    "### 2. Studying the general information <a class=\"anchor\" id=\"chapter4\"></a>"
   ]
  },
  {
   "cell_type": "code",
   "execution_count": 12,
   "metadata": {},
   "outputs": [
    {
     "data": {
      "text/html": [
       "<div>\n",
       "<style scoped>\n",
       "    .dataframe tbody tr th:only-of-type {\n",
       "        vertical-align: middle;\n",
       "    }\n",
       "\n",
       "    .dataframe tbody tr th {\n",
       "        vertical-align: top;\n",
       "    }\n",
       "\n",
       "    .dataframe thead th {\n",
       "        text-align: right;\n",
       "    }\n",
       "</style>\n",
       "<table border=\"1\" class=\"dataframe\">\n",
       "  <thead>\n",
       "    <tr style=\"text-align: right;\">\n",
       "      <th></th>\n",
       "      <th>id</th>\n",
       "      <th>object_name</th>\n",
       "      <th>address</th>\n",
       "      <th>chain</th>\n",
       "      <th>object_type</th>\n",
       "      <th>number</th>\n",
       "    </tr>\n",
       "  </thead>\n",
       "  <tbody>\n",
       "    <tr>\n",
       "      <td>9646</td>\n",
       "      <td>21432</td>\n",
       "      <td>HALL OF JUSTICE</td>\n",
       "      <td>217 W TEMPLE AVE</td>\n",
       "      <td>False</td>\n",
       "      <td>Restaurant</td>\n",
       "      <td>122</td>\n",
       "    </tr>\n",
       "    <tr>\n",
       "      <td>9647</td>\n",
       "      <td>21433</td>\n",
       "      <td>FIN-MELROSE</td>\n",
       "      <td>5750 MELROSE AVE</td>\n",
       "      <td>False</td>\n",
       "      <td>Restaurant</td>\n",
       "      <td>93</td>\n",
       "    </tr>\n",
       "    <tr>\n",
       "      <td>9648</td>\n",
       "      <td>21434</td>\n",
       "      <td>JUICY WINGZ</td>\n",
       "      <td>6741 HOLLYWOOD BLVD</td>\n",
       "      <td>True</td>\n",
       "      <td>Fast Food</td>\n",
       "      <td>15</td>\n",
       "    </tr>\n",
       "    <tr>\n",
       "      <td>9649</td>\n",
       "      <td>21435</td>\n",
       "      <td>MEDIDATE COFFEE</td>\n",
       "      <td>548 S SPRING ST STE 100</td>\n",
       "      <td>False</td>\n",
       "      <td>Cafe</td>\n",
       "      <td>6</td>\n",
       "    </tr>\n",
       "    <tr>\n",
       "      <td>9650</td>\n",
       "      <td>21436</td>\n",
       "      <td>CAFE SPROUTS</td>\n",
       "      <td>1300 S SAN PEDRO ST STE 111</td>\n",
       "      <td>True</td>\n",
       "      <td>Restaurant</td>\n",
       "      <td>19</td>\n",
       "    </tr>\n",
       "  </tbody>\n",
       "</table>\n",
       "</div>"
      ],
      "text/plain": [
       "         id      object_name                      address  chain object_type  \\\n",
       "9646  21432  HALL OF JUSTICE             217 W TEMPLE AVE  False  Restaurant   \n",
       "9647  21433      FIN-MELROSE             5750 MELROSE AVE  False  Restaurant   \n",
       "9648  21434      JUICY WINGZ          6741 HOLLYWOOD BLVD   True   Fast Food   \n",
       "9649  21435  MEDIDATE COFFEE      548 S SPRING ST STE 100  False        Cafe   \n",
       "9650  21436     CAFE SPROUTS  1300 S SAN PEDRO ST STE 111   True  Restaurant   \n",
       "\n",
       "      number  \n",
       "9646     122  \n",
       "9647      93  \n",
       "9648      15  \n",
       "9649       6  \n",
       "9650      19  "
      ]
     },
     "execution_count": 12,
     "metadata": {},
     "output_type": "execute_result"
    }
   ],
   "source": [
    "#checking the table\n",
    "df.head()\n",
    "df.tail()"
   ]
  },
  {
   "cell_type": "markdown",
   "metadata": {},
   "source": [
    "- values in columns 'object_name' and 'adress' need to be lower case"
   ]
  },
  {
   "cell_type": "code",
   "execution_count": 13,
   "metadata": {},
   "outputs": [
    {
     "name": "stdout",
     "output_type": "stream",
     "text": [
      "<class 'pandas.core.frame.DataFrame'>\n",
      "RangeIndex: 9651 entries, 0 to 9650\n",
      "Data columns (total 6 columns):\n",
      "id             9651 non-null int64\n",
      "object_name    9651 non-null object\n",
      "address        9651 non-null object\n",
      "chain          9648 non-null object\n",
      "object_type    9651 non-null object\n",
      "number         9651 non-null int64\n",
      "dtypes: int64(2), object(4)\n",
      "memory usage: 452.5+ KB\n"
     ]
    }
   ],
   "source": [
    "#checking information about the table\n",
    "df.info()"
   ]
  },
  {
   "cell_type": "markdown",
   "metadata": {},
   "source": [
    "- Column 'chain' that contain information about chain establishment (TRUE/FALSE) has object data type instead of boolean index (bool). The reason of that is 3 missing values in this column.  \n",
    "- There are no missing values in the other columns."
   ]
  },
  {
   "cell_type": "code",
   "execution_count": 14,
   "metadata": {},
   "outputs": [
    {
     "data": {
      "text/html": [
       "<div>\n",
       "<style scoped>\n",
       "    .dataframe tbody tr th:only-of-type {\n",
       "        vertical-align: middle;\n",
       "    }\n",
       "\n",
       "    .dataframe tbody tr th {\n",
       "        vertical-align: top;\n",
       "    }\n",
       "\n",
       "    .dataframe thead th {\n",
       "        text-align: right;\n",
       "    }\n",
       "</style>\n",
       "<table border=\"1\" class=\"dataframe\">\n",
       "  <thead>\n",
       "    <tr style=\"text-align: right;\">\n",
       "      <th></th>\n",
       "      <th>id</th>\n",
       "      <th>object_name</th>\n",
       "      <th>address</th>\n",
       "      <th>chain</th>\n",
       "      <th>object_type</th>\n",
       "      <th>number</th>\n",
       "    </tr>\n",
       "  </thead>\n",
       "  <tbody>\n",
       "    <tr>\n",
       "      <td>7408</td>\n",
       "      <td>19194</td>\n",
       "      <td>TAQUERIA LOS 3 CARNALES</td>\n",
       "      <td>5000 E WHITTIER BLVD</td>\n",
       "      <td>NaN</td>\n",
       "      <td>Restaurant</td>\n",
       "      <td>14</td>\n",
       "    </tr>\n",
       "    <tr>\n",
       "      <td>7523</td>\n",
       "      <td>19309</td>\n",
       "      <td>JAMMIN JIMMY'S PIZZA</td>\n",
       "      <td>1641 FIRESTONE BLVD</td>\n",
       "      <td>NaN</td>\n",
       "      <td>Pizza</td>\n",
       "      <td>1</td>\n",
       "    </tr>\n",
       "    <tr>\n",
       "      <td>8648</td>\n",
       "      <td>20434</td>\n",
       "      <td>THE LEXINGTON THEATER</td>\n",
       "      <td>129 E 3RD ST</td>\n",
       "      <td>NaN</td>\n",
       "      <td>Restaurant</td>\n",
       "      <td>35</td>\n",
       "    </tr>\n",
       "  </tbody>\n",
       "</table>\n",
       "</div>"
      ],
      "text/plain": [
       "         id              object_name               address chain object_type  \\\n",
       "7408  19194  TAQUERIA LOS 3 CARNALES  5000 E WHITTIER BLVD   NaN  Restaurant   \n",
       "7523  19309     JAMMIN JIMMY'S PIZZA   1641 FIRESTONE BLVD   NaN       Pizza   \n",
       "8648  20434    THE LEXINGTON THEATER          129 E 3RD ST   NaN  Restaurant   \n",
       "\n",
       "      number  \n",
       "7408      14  \n",
       "7523       1  \n",
       "8648      35  "
      ]
     },
     "execution_count": 14,
     "metadata": {},
     "output_type": "execute_result"
    }
   ],
   "source": [
    "#checking missing values in column 'chain'\n",
    "df.query('chain != (False, True)')"
   ]
  },
  {
   "cell_type": "markdown",
   "metadata": {},
   "source": [
    "Let's check if this establishments are chain or not:"
   ]
  },
  {
   "cell_type": "code",
   "execution_count": 15,
   "metadata": {},
   "outputs": [],
   "source": [
    "#creating parameter with names of establishments without information if this palce are chain or not\n",
    "missing_name = df.query('chain != (False, True)')['object_name']"
   ]
  },
  {
   "cell_type": "code",
   "execution_count": 16,
   "metadata": {},
   "outputs": [
    {
     "data": {
      "text/html": [
       "<div>\n",
       "<style scoped>\n",
       "    .dataframe tbody tr th:only-of-type {\n",
       "        vertical-align: middle;\n",
       "    }\n",
       "\n",
       "    .dataframe tbody tr th {\n",
       "        vertical-align: top;\n",
       "    }\n",
       "\n",
       "    .dataframe thead th {\n",
       "        text-align: right;\n",
       "    }\n",
       "</style>\n",
       "<table border=\"1\" class=\"dataframe\">\n",
       "  <thead>\n",
       "    <tr style=\"text-align: right;\">\n",
       "      <th></th>\n",
       "      <th>id</th>\n",
       "      <th>object_name</th>\n",
       "      <th>address</th>\n",
       "      <th>chain</th>\n",
       "      <th>object_type</th>\n",
       "      <th>number</th>\n",
       "    </tr>\n",
       "  </thead>\n",
       "  <tbody>\n",
       "    <tr>\n",
       "      <td>7408</td>\n",
       "      <td>19194</td>\n",
       "      <td>TAQUERIA LOS 3 CARNALES</td>\n",
       "      <td>5000 E WHITTIER BLVD</td>\n",
       "      <td>NaN</td>\n",
       "      <td>Restaurant</td>\n",
       "      <td>14</td>\n",
       "    </tr>\n",
       "    <tr>\n",
       "      <td>7523</td>\n",
       "      <td>19309</td>\n",
       "      <td>JAMMIN JIMMY'S PIZZA</td>\n",
       "      <td>1641 FIRESTONE BLVD</td>\n",
       "      <td>NaN</td>\n",
       "      <td>Pizza</td>\n",
       "      <td>1</td>\n",
       "    </tr>\n",
       "    <tr>\n",
       "      <td>8648</td>\n",
       "      <td>20434</td>\n",
       "      <td>THE LEXINGTON THEATER</td>\n",
       "      <td>129 E 3RD ST</td>\n",
       "      <td>NaN</td>\n",
       "      <td>Restaurant</td>\n",
       "      <td>35</td>\n",
       "    </tr>\n",
       "  </tbody>\n",
       "</table>\n",
       "</div>"
      ],
      "text/plain": [
       "         id              object_name               address chain object_type  \\\n",
       "7408  19194  TAQUERIA LOS 3 CARNALES  5000 E WHITTIER BLVD   NaN  Restaurant   \n",
       "7523  19309     JAMMIN JIMMY'S PIZZA   1641 FIRESTONE BLVD   NaN       Pizza   \n",
       "8648  20434    THE LEXINGTON THEATER          129 E 3RD ST   NaN  Restaurant   \n",
       "\n",
       "      number  \n",
       "7408      14  \n",
       "7523       1  \n",
       "8648      35  "
      ]
     },
     "execution_count": 16,
     "metadata": {},
     "output_type": "execute_result"
    }
   ],
   "source": [
    "#checking if there is any establishment with the same name\n",
    "df.query('object_name in @missing_name')"
   ]
  },
  {
   "cell_type": "markdown",
   "metadata": {},
   "source": [
    "There is only one place with the same name, therefore these establishments are not chain."
   ]
  },
  {
   "cell_type": "code",
   "execution_count": 17,
   "metadata": {},
   "outputs": [
    {
     "data": {
      "text/html": [
       "<div>\n",
       "<style scoped>\n",
       "    .dataframe tbody tr th:only-of-type {\n",
       "        vertical-align: middle;\n",
       "    }\n",
       "\n",
       "    .dataframe tbody tr th {\n",
       "        vertical-align: top;\n",
       "    }\n",
       "\n",
       "    .dataframe thead th {\n",
       "        text-align: right;\n",
       "    }\n",
       "</style>\n",
       "<table border=\"1\" class=\"dataframe\">\n",
       "  <thead>\n",
       "    <tr style=\"text-align: right;\">\n",
       "      <th></th>\n",
       "      <th>id</th>\n",
       "      <th>number</th>\n",
       "    </tr>\n",
       "  </thead>\n",
       "  <tbody>\n",
       "    <tr>\n",
       "      <td>count</td>\n",
       "      <td>9651.000000</td>\n",
       "      <td>9651.000000</td>\n",
       "    </tr>\n",
       "    <tr>\n",
       "      <td>mean</td>\n",
       "      <td>16611.000000</td>\n",
       "      <td>43.695161</td>\n",
       "    </tr>\n",
       "    <tr>\n",
       "      <td>std</td>\n",
       "      <td>2786.148058</td>\n",
       "      <td>47.622874</td>\n",
       "    </tr>\n",
       "    <tr>\n",
       "      <td>min</td>\n",
       "      <td>11786.000000</td>\n",
       "      <td>1.000000</td>\n",
       "    </tr>\n",
       "    <tr>\n",
       "      <td>25%</td>\n",
       "      <td>14198.500000</td>\n",
       "      <td>14.000000</td>\n",
       "    </tr>\n",
       "    <tr>\n",
       "      <td>50%</td>\n",
       "      <td>16611.000000</td>\n",
       "      <td>27.000000</td>\n",
       "    </tr>\n",
       "    <tr>\n",
       "      <td>75%</td>\n",
       "      <td>19023.500000</td>\n",
       "      <td>46.000000</td>\n",
       "    </tr>\n",
       "    <tr>\n",
       "      <td>max</td>\n",
       "      <td>21436.000000</td>\n",
       "      <td>229.000000</td>\n",
       "    </tr>\n",
       "  </tbody>\n",
       "</table>\n",
       "</div>"
      ],
      "text/plain": [
       "                 id       number\n",
       "count   9651.000000  9651.000000\n",
       "mean   16611.000000    43.695161\n",
       "std     2786.148058    47.622874\n",
       "min    11786.000000     1.000000\n",
       "25%    14198.500000    14.000000\n",
       "50%    16611.000000    27.000000\n",
       "75%    19023.500000    46.000000\n",
       "max    21436.000000   229.000000"
      ]
     },
     "execution_count": 17,
     "metadata": {},
     "output_type": "execute_result"
    }
   ],
   "source": [
    "#checking values in columns with numbers\n",
    "df.describe()"
   ]
  },
  {
   "cell_type": "markdown",
   "metadata": {},
   "source": [
    "Number of seats range from 1 to 229."
   ]
  },
  {
   "cell_type": "code",
   "execution_count": 18,
   "metadata": {},
   "outputs": [
    {
     "data": {
      "image/png": "[encoded data removed]",
      "text/plain": [
       "<Figure size 864x432 with 1 Axes>"
      ]
     },
     "metadata": {
      "needs_background": "light"
     },
     "output_type": "display_data"
    }
   ],
   "source": [
    "#building a histogram\n",
    "df.number.hist(figsize=(12,6))\n",
    "plt.xlabel('Number of seats')\n",
    "plt.ylabel('Freakquency')\n",
    "plt.title('Distribution of the number of seats', fontsize=14)\n",
    "plt.show()"
   ]
  },
  {
   "cell_type": "markdown",
   "metadata": {},
   "source": [
    "As we can see most of the establishments have less than 50 seats."
   ]
  },
  {
   "cell_type": "markdown",
   "metadata": {},
   "source": [
    "let's check how many food and drink venues have one or 200+ seats:"
   ]
  },
  {
   "cell_type": "code",
   "execution_count": 19,
   "metadata": {
    "scrolled": true
   },
   "outputs": [
    {
     "name": "stdout",
     "output_type": "stream",
     "text": [
      "Number of establisments with one seat: 187\n",
      "Number of establisments with 200+ seats: 170\n"
     ]
    }
   ],
   "source": [
    "#calculating\n",
    "print('Number of establisments with one seat:', df.query('number == 1')['object_name'].count())\n",
    "print('Number of establisments with 200+ seats:', df.query('number > 200')['object_name'].count())"
   ]
  },
  {
   "cell_type": "markdown",
   "metadata": {},
   "source": [
    "It seems possible.  \n",
    "I assume that establishments with one seat can be places with take away food.  \n",
    "In case with 200+ number of seats they can be banquet halls or restaurants in the hotels."
   ]
  },
  {
   "cell_type": "code",
   "execution_count": 20,
   "metadata": {},
   "outputs": [
    {
     "data": {
      "text/plain": [
       "0"
      ]
     },
     "execution_count": 20,
     "metadata": {},
     "output_type": "execute_result"
    }
   ],
   "source": [
    "#checking for duplicates\n",
    "df.duplicated().sum()"
   ]
  },
  {
   "cell_type": "markdown",
   "metadata": {},
   "source": [
    "I don't see obvious duplicates.  \n",
    "Let's check values in each column:"
   ]
  },
  {
   "cell_type": "code",
   "execution_count": 21,
   "metadata": {},
   "outputs": [
    {
     "data": {
      "text/plain": [
       "THE COFFEE BEAN & TEA LEAF    47\n",
       "SUBWAY                        31\n",
       "DOMINO'S PIZZA                15\n",
       "WABA GRILL                    14\n",
       "KENTUCKY FRIED CHICKEN        14\n",
       "                              ..\n",
       "MCDONALD'S #1135               1\n",
       "LA MAYOR DOMIA 2               1\n",
       "MAMA'S ORIGINAL PIZZA          1\n",
       "LA CHINA OAXAQUENA             1\n",
       "HO MI BING                     1\n",
       "Name: object_name, Length: 8672, dtype: int64"
      ]
     },
     "execution_count": 21,
     "metadata": {},
     "output_type": "execute_result"
    }
   ],
   "source": [
    "#checking values in column 'object_name'\n",
    "df.object_name.value_counts()"
   ]
  },
  {
   "cell_type": "markdown",
   "metadata": {},
   "source": [
    "As we can see there are some names with numbers and symbols.  \n",
    "Let's check it:"
   ]
  },
  {
   "cell_type": "code",
   "execution_count": 22,
   "metadata": {},
   "outputs": [
    {
     "data": {
      "text/html": [
       "<div>\n",
       "<style scoped>\n",
       "    .dataframe tbody tr th:only-of-type {\n",
       "        vertical-align: middle;\n",
       "    }\n",
       "\n",
       "    .dataframe tbody tr th {\n",
       "        vertical-align: top;\n",
       "    }\n",
       "\n",
       "    .dataframe thead th {\n",
       "        text-align: right;\n",
       "    }\n",
       "</style>\n",
       "<table border=\"1\" class=\"dataframe\">\n",
       "  <thead>\n",
       "    <tr style=\"text-align: right;\">\n",
       "      <th></th>\n",
       "      <th>id</th>\n",
       "      <th>object_name</th>\n",
       "      <th>address</th>\n",
       "      <th>chain</th>\n",
       "      <th>object_type</th>\n",
       "      <th>number</th>\n",
       "    </tr>\n",
       "  </thead>\n",
       "  <tbody>\n",
       "    <tr>\n",
       "      <td>19</td>\n",
       "      <td>11805</td>\n",
       "      <td>DELTA SKY CLUB T3</td>\n",
       "      <td>300 WORLD WAY</td>\n",
       "      <td>False</td>\n",
       "      <td>Restaurant</td>\n",
       "      <td>103</td>\n",
       "    </tr>\n",
       "    <tr>\n",
       "      <td>30</td>\n",
       "      <td>11816</td>\n",
       "      <td>CAFE 153</td>\n",
       "      <td>1125 3/4 WALL ST</td>\n",
       "      <td>False</td>\n",
       "      <td>Restaurant</td>\n",
       "      <td>5</td>\n",
       "    </tr>\n",
       "    <tr>\n",
       "      <td>40</td>\n",
       "      <td>11826</td>\n",
       "      <td>SUBWAY -52105</td>\n",
       "      <td>255 S GRAND AVE STE 101</td>\n",
       "      <td>True</td>\n",
       "      <td>Fast Food</td>\n",
       "      <td>37</td>\n",
       "    </tr>\n",
       "    <tr>\n",
       "      <td>42</td>\n",
       "      <td>11828</td>\n",
       "      <td>PANDA EXPRESS #2596</td>\n",
       "      <td>1544 S LA CIENEGA BLVD</td>\n",
       "      <td>True</td>\n",
       "      <td>Fast Food</td>\n",
       "      <td>22</td>\n",
       "    </tr>\n",
       "    <tr>\n",
       "      <td>46</td>\n",
       "      <td>11832</td>\n",
       "      <td>THE COUNTER SPACE 7C</td>\n",
       "      <td>700 WORLD WAY</td>\n",
       "      <td>True</td>\n",
       "      <td>Restaurant</td>\n",
       "      <td>20</td>\n",
       "    </tr>\n",
       "    <tr>\n",
       "      <td>...</td>\n",
       "      <td>...</td>\n",
       "      <td>...</td>\n",
       "      <td>...</td>\n",
       "      <td>...</td>\n",
       "      <td>...</td>\n",
       "      <td>...</td>\n",
       "    </tr>\n",
       "    <tr>\n",
       "      <td>9593</td>\n",
       "      <td>21379</td>\n",
       "      <td>PANDA EXPRESS 2919</td>\n",
       "      <td>1810 W SLAUSON AVE</td>\n",
       "      <td>True</td>\n",
       "      <td>Fast Food</td>\n",
       "      <td>15</td>\n",
       "    </tr>\n",
       "    <tr>\n",
       "      <td>9616</td>\n",
       "      <td>21402</td>\n",
       "      <td>TACOS LOS 4 CARNALES</td>\n",
       "      <td>5000 WHITTIER BLVD</td>\n",
       "      <td>False</td>\n",
       "      <td>Fast Food</td>\n",
       "      <td>9</td>\n",
       "    </tr>\n",
       "    <tr>\n",
       "      <td>9623</td>\n",
       "      <td>21409</td>\n",
       "      <td>310 COFFEE COMPANY</td>\n",
       "      <td>11623 WASHINGTON PL</td>\n",
       "      <td>False</td>\n",
       "      <td>Cafe</td>\n",
       "      <td>12</td>\n",
       "    </tr>\n",
       "    <tr>\n",
       "      <td>9632</td>\n",
       "      <td>21418</td>\n",
       "      <td>PIZZA DE CAL #36</td>\n",
       "      <td>252 E MARTIN LUTHER KING JR BLVD</td>\n",
       "      <td>False</td>\n",
       "      <td>Pizza</td>\n",
       "      <td>9</td>\n",
       "    </tr>\n",
       "    <tr>\n",
       "      <td>9636</td>\n",
       "      <td>21422</td>\n",
       "      <td>CHIPOTLE #3094</td>\n",
       "      <td>6719 LA TIJERA BLVD # A-B</td>\n",
       "      <td>True</td>\n",
       "      <td>Restaurant</td>\n",
       "      <td>47</td>\n",
       "    </tr>\n",
       "  </tbody>\n",
       "</table>\n",
       "<p>1301 rows × 6 columns</p>\n",
       "</div>"
      ],
      "text/plain": [
       "         id           object_name                           address  chain  \\\n",
       "19    11805     DELTA SKY CLUB T3                     300 WORLD WAY  False   \n",
       "30    11816              CAFE 153                  1125 3/4 WALL ST  False   \n",
       "40    11826         SUBWAY -52105           255 S GRAND AVE STE 101   True   \n",
       "42    11828   PANDA EXPRESS #2596            1544 S LA CIENEGA BLVD   True   \n",
       "46    11832  THE COUNTER SPACE 7C                     700 WORLD WAY   True   \n",
       "...     ...                   ...                               ...    ...   \n",
       "9593  21379    PANDA EXPRESS 2919                1810 W SLAUSON AVE   True   \n",
       "9616  21402  TACOS LOS 4 CARNALES                5000 WHITTIER BLVD  False   \n",
       "9623  21409    310 COFFEE COMPANY               11623 WASHINGTON PL  False   \n",
       "9632  21418      PIZZA DE CAL #36  252 E MARTIN LUTHER KING JR BLVD  False   \n",
       "9636  21422        CHIPOTLE #3094         6719 LA TIJERA BLVD # A-B   True   \n",
       "\n",
       "     object_type  number  \n",
       "19    Restaurant     103  \n",
       "30    Restaurant       5  \n",
       "40     Fast Food      37  \n",
       "42     Fast Food      22  \n",
       "46    Restaurant      20  \n",
       "...          ...     ...  \n",
       "9593   Fast Food      15  \n",
       "9616   Fast Food       9  \n",
       "9623        Cafe      12  \n",
       "9632       Pizza       9  \n",
       "9636  Restaurant      47  \n",
       "\n",
       "[1301 rows x 6 columns]"
      ]
     },
     "execution_count": 22,
     "metadata": {},
     "output_type": "execute_result"
    }
   ],
   "source": [
    "#selecting values with numbers in column 'object_name'\n",
    "df.loc[df[\"object_name\"].str.contains(\"\\d+\")] "
   ]
  },
  {
   "cell_type": "code",
   "execution_count": 23,
   "metadata": {},
   "outputs": [
    {
     "data": {
      "text/html": [
       "<div>\n",
       "<style scoped>\n",
       "    .dataframe tbody tr th:only-of-type {\n",
       "        vertical-align: middle;\n",
       "    }\n",
       "\n",
       "    .dataframe tbody tr th {\n",
       "        vertical-align: top;\n",
       "    }\n",
       "\n",
       "    .dataframe thead th {\n",
       "        text-align: right;\n",
       "    }\n",
       "</style>\n",
       "<table border=\"1\" class=\"dataframe\">\n",
       "  <thead>\n",
       "    <tr style=\"text-align: right;\">\n",
       "      <th></th>\n",
       "      <th>id</th>\n",
       "      <th>object_name</th>\n",
       "      <th>address</th>\n",
       "      <th>chain</th>\n",
       "      <th>object_type</th>\n",
       "      <th>number</th>\n",
       "    </tr>\n",
       "  </thead>\n",
       "  <tbody>\n",
       "    <tr>\n",
       "      <td>42</td>\n",
       "      <td>11828</td>\n",
       "      <td>PANDA EXPRESS #2596</td>\n",
       "      <td>1544 S LA CIENEGA BLVD</td>\n",
       "      <td>True</td>\n",
       "      <td>Fast Food</td>\n",
       "      <td>22</td>\n",
       "    </tr>\n",
       "    <tr>\n",
       "      <td>49</td>\n",
       "      <td>11835</td>\n",
       "      <td>AFC SUSHI AT WALGREENS #1527</td>\n",
       "      <td>1501 N VINE ST</td>\n",
       "      <td>False</td>\n",
       "      <td>Restaurant</td>\n",
       "      <td>8</td>\n",
       "    </tr>\n",
       "    <tr>\n",
       "      <td>55</td>\n",
       "      <td>11841</td>\n",
       "      <td>RALPHS MARKET #206</td>\n",
       "      <td>5429 HOLLYWOOD BLVD</td>\n",
       "      <td>False</td>\n",
       "      <td>Restaurant</td>\n",
       "      <td>22</td>\n",
       "    </tr>\n",
       "    <tr>\n",
       "      <td>61</td>\n",
       "      <td>11847</td>\n",
       "      <td>KIKKA @ ARCO PLAZA</td>\n",
       "      <td>505 S FLOWER ST # B-270</td>\n",
       "      <td>True</td>\n",
       "      <td>Restaurant</td>\n",
       "      <td>21</td>\n",
       "    </tr>\n",
       "    <tr>\n",
       "      <td>69</td>\n",
       "      <td>11855</td>\n",
       "      <td>MRS FIELD'S COOKI #426</td>\n",
       "      <td>505 S FLOWER ST</td>\n",
       "      <td>False</td>\n",
       "      <td>Restaurant</td>\n",
       "      <td>11</td>\n",
       "    </tr>\n",
       "    <tr>\n",
       "      <td>...</td>\n",
       "      <td>...</td>\n",
       "      <td>...</td>\n",
       "      <td>...</td>\n",
       "      <td>...</td>\n",
       "      <td>...</td>\n",
       "      <td>...</td>\n",
       "    </tr>\n",
       "    <tr>\n",
       "      <td>9562</td>\n",
       "      <td>21348</td>\n",
       "      <td>7-ELEVEN STORE #18778D</td>\n",
       "      <td>7600 W SUNSET BLVD</td>\n",
       "      <td>False</td>\n",
       "      <td>Restaurant</td>\n",
       "      <td>1</td>\n",
       "    </tr>\n",
       "    <tr>\n",
       "      <td>9581</td>\n",
       "      <td>21367</td>\n",
       "      <td>CHINATOWN EXPRESS #1</td>\n",
       "      <td>4201 BEVERLY BLVD</td>\n",
       "      <td>True</td>\n",
       "      <td>Fast Food</td>\n",
       "      <td>24</td>\n",
       "    </tr>\n",
       "    <tr>\n",
       "      <td>9587</td>\n",
       "      <td>21373</td>\n",
       "      <td>VALENCIA REST. GROUP #1</td>\n",
       "      <td>727 N BROADWAY # 120</td>\n",
       "      <td>False</td>\n",
       "      <td>Restaurant</td>\n",
       "      <td>39</td>\n",
       "    </tr>\n",
       "    <tr>\n",
       "      <td>9632</td>\n",
       "      <td>21418</td>\n",
       "      <td>PIZZA DE CAL #36</td>\n",
       "      <td>252 E MARTIN LUTHER KING JR BLVD</td>\n",
       "      <td>False</td>\n",
       "      <td>Pizza</td>\n",
       "      <td>9</td>\n",
       "    </tr>\n",
       "    <tr>\n",
       "      <td>9636</td>\n",
       "      <td>21422</td>\n",
       "      <td>CHIPOTLE #3094</td>\n",
       "      <td>6719 LA TIJERA BLVD # A-B</td>\n",
       "      <td>True</td>\n",
       "      <td>Restaurant</td>\n",
       "      <td>47</td>\n",
       "    </tr>\n",
       "  </tbody>\n",
       "</table>\n",
       "<p>1112 rows × 6 columns</p>\n",
       "</div>"
      ],
      "text/plain": [
       "         id                   object_name                           address  \\\n",
       "42    11828           PANDA EXPRESS #2596            1544 S LA CIENEGA BLVD   \n",
       "49    11835  AFC SUSHI AT WALGREENS #1527                    1501 N VINE ST   \n",
       "55    11841            RALPHS MARKET #206               5429 HOLLYWOOD BLVD   \n",
       "61    11847            KIKKA @ ARCO PLAZA           505 S FLOWER ST # B-270   \n",
       "69    11855        MRS FIELD'S COOKI #426                   505 S FLOWER ST   \n",
       "...     ...                           ...                               ...   \n",
       "9562  21348        7-ELEVEN STORE #18778D                7600 W SUNSET BLVD   \n",
       "9581  21367          CHINATOWN EXPRESS #1                 4201 BEVERLY BLVD   \n",
       "9587  21373       VALENCIA REST. GROUP #1              727 N BROADWAY # 120   \n",
       "9632  21418              PIZZA DE CAL #36  252 E MARTIN LUTHER KING JR BLVD   \n",
       "9636  21422                CHIPOTLE #3094         6719 LA TIJERA BLVD # A-B   \n",
       "\n",
       "      chain object_type  number  \n",
       "42     True   Fast Food      22  \n",
       "49    False  Restaurant       8  \n",
       "55    False  Restaurant      22  \n",
       "61     True  Restaurant      21  \n",
       "69    False  Restaurant      11  \n",
       "...     ...         ...     ...  \n",
       "9562  False  Restaurant       1  \n",
       "9581   True   Fast Food      24  \n",
       "9587  False  Restaurant      39  \n",
       "9632  False       Pizza       9  \n",
       "9636   True  Restaurant      47  \n",
       "\n",
       "[1112 rows x 6 columns]"
      ]
     },
     "execution_count": 23,
     "metadata": {},
     "output_type": "execute_result"
    }
   ],
   "source": [
    "#selecting values with symbols in column 'object_name'\n",
    "df.loc[df[\"object_name\"].str.contains(\"[@_!#$%^*()<>?/\\|}{~:]\")] "
   ]
  },
  {
   "cell_type": "markdown",
   "metadata": {},
   "source": [
    "There are a lot of values with numbers (1300 rows) or symbols (1112 rows) in the column 'object_name'.  \n",
    "As I can see here numbers in many cases are not a part of the name.    \n",
    "For example \"PANDA EXPRESS #2596\" and \"PANDA EXPRESS 2919\" are just \"PANDA EXPRESS\" fast food company.  \n",
    "Probably it was a typo or if data were collected automatically it was programming error.  \n",
    "So, to avoid duplicates and get more accurate results it is better to remove numbers and symbols from the object name."
   ]
  },
  {
   "cell_type": "code",
   "execution_count": 24,
   "metadata": {},
   "outputs": [
    {
     "data": {
      "text/html": [
       "<div>\n",
       "<style scoped>\n",
       "    .dataframe tbody tr th:only-of-type {\n",
       "        vertical-align: middle;\n",
       "    }\n",
       "\n",
       "    .dataframe tbody tr th {\n",
       "        vertical-align: top;\n",
       "    }\n",
       "\n",
       "    .dataframe thead th {\n",
       "        text-align: right;\n",
       "    }\n",
       "</style>\n",
       "<table border=\"1\" class=\"dataframe\">\n",
       "  <thead>\n",
       "    <tr style=\"text-align: right;\">\n",
       "      <th></th>\n",
       "      <th>id</th>\n",
       "      <th>object_name</th>\n",
       "      <th>address</th>\n",
       "      <th>chain</th>\n",
       "      <th>object_type</th>\n",
       "      <th>number</th>\n",
       "    </tr>\n",
       "  </thead>\n",
       "  <tbody>\n",
       "    <tr>\n",
       "      <td>1445</td>\n",
       "      <td>13231</td>\n",
       "      <td>333</td>\n",
       "      <td>333 S BOYLSTON ST</td>\n",
       "      <td>True</td>\n",
       "      <td>Restaurant</td>\n",
       "      <td>180</td>\n",
       "    </tr>\n",
       "  </tbody>\n",
       "</table>\n",
       "</div>"
      ],
      "text/plain": [
       "         id object_name            address chain object_type  number\n",
       "1445  13231         333  333 S BOYLSTON ST  True  Restaurant     180"
      ]
     },
     "execution_count": 24,
     "metadata": {},
     "output_type": "execute_result"
    }
   ],
   "source": [
    "#selecting values with only numbers in column 'object_name'\n",
    "df.loc[df[\"object_name\"].str.isnumeric()] "
   ]
  },
  {
   "cell_type": "markdown",
   "metadata": {},
   "source": [
    "I found one restaurant with only numbers in the name."
   ]
  },
  {
   "cell_type": "code",
   "execution_count": 25,
   "metadata": {},
   "outputs": [
    {
     "data": {
      "text/html": [
       "<div>\n",
       "<style scoped>\n",
       "    .dataframe tbody tr th:only-of-type {\n",
       "        vertical-align: middle;\n",
       "    }\n",
       "\n",
       "    .dataframe tbody tr th {\n",
       "        vertical-align: top;\n",
       "    }\n",
       "\n",
       "    .dataframe thead th {\n",
       "        text-align: right;\n",
       "    }\n",
       "</style>\n",
       "<table border=\"1\" class=\"dataframe\">\n",
       "  <thead>\n",
       "    <tr style=\"text-align: right;\">\n",
       "      <th></th>\n",
       "      <th>id</th>\n",
       "      <th>object_name</th>\n",
       "      <th>address</th>\n",
       "      <th>chain</th>\n",
       "      <th>object_type</th>\n",
       "      <th>number</th>\n",
       "    </tr>\n",
       "  </thead>\n",
       "  <tbody>\n",
       "    <tr>\n",
       "      <td>2402</td>\n",
       "      <td>14188</td>\n",
       "      <td>KFC</td>\n",
       "      <td>340 N WESTERN AVE</td>\n",
       "      <td>True</td>\n",
       "      <td>Fast Food</td>\n",
       "      <td>66</td>\n",
       "    </tr>\n",
       "    <tr>\n",
       "      <td>2649</td>\n",
       "      <td>14435</td>\n",
       "      <td>KFC</td>\n",
       "      <td>11864 WILMINGTON AVE</td>\n",
       "      <td>True</td>\n",
       "      <td>Fast Food</td>\n",
       "      <td>19</td>\n",
       "    </tr>\n",
       "    <tr>\n",
       "      <td>3781</td>\n",
       "      <td>15567</td>\n",
       "      <td>KFC</td>\n",
       "      <td>5720 S VERMONT AVE</td>\n",
       "      <td>True</td>\n",
       "      <td>Fast Food</td>\n",
       "      <td>6</td>\n",
       "    </tr>\n",
       "    <tr>\n",
       "      <td>4307</td>\n",
       "      <td>16093</td>\n",
       "      <td>KFC</td>\n",
       "      <td>126 S VERMONT AVE # 112</td>\n",
       "      <td>True</td>\n",
       "      <td>Fast Food</td>\n",
       "      <td>37</td>\n",
       "    </tr>\n",
       "    <tr>\n",
       "      <td>5826</td>\n",
       "      <td>17612</td>\n",
       "      <td>KFC</td>\n",
       "      <td>2801 W OLYMPIC BLVD</td>\n",
       "      <td>True</td>\n",
       "      <td>Fast Food</td>\n",
       "      <td>101</td>\n",
       "    </tr>\n",
       "  </tbody>\n",
       "</table>\n",
       "</div>"
      ],
      "text/plain": [
       "         id object_name                  address chain object_type  number\n",
       "2402  14188         KFC        340 N WESTERN AVE  True   Fast Food      66\n",
       "2649  14435         KFC     11864 WILMINGTON AVE  True   Fast Food      19\n",
       "3781  15567         KFC       5720 S VERMONT AVE  True   Fast Food       6\n",
       "4307  16093         KFC  126 S VERMONT AVE # 112  True   Fast Food      37\n",
       "5826  17612         KFC      2801 W OLYMPIC BLVD  True   Fast Food     101"
      ]
     },
     "execution_count": 25,
     "metadata": {},
     "output_type": "execute_result"
    }
   ],
   "source": [
    "#selecting values\n",
    "df.query(\"object_name == 'KFC'\").head()"
   ]
  },
  {
   "cell_type": "code",
   "execution_count": 26,
   "metadata": {},
   "outputs": [
    {
     "data": {
      "text/html": [
       "<div>\n",
       "<style scoped>\n",
       "    .dataframe tbody tr th:only-of-type {\n",
       "        vertical-align: middle;\n",
       "    }\n",
       "\n",
       "    .dataframe tbody tr th {\n",
       "        vertical-align: top;\n",
       "    }\n",
       "\n",
       "    .dataframe thead th {\n",
       "        text-align: right;\n",
       "    }\n",
       "</style>\n",
       "<table border=\"1\" class=\"dataframe\">\n",
       "  <thead>\n",
       "    <tr style=\"text-align: right;\">\n",
       "      <th></th>\n",
       "      <th>id</th>\n",
       "      <th>object_name</th>\n",
       "      <th>address</th>\n",
       "      <th>chain</th>\n",
       "      <th>object_type</th>\n",
       "      <th>number</th>\n",
       "    </tr>\n",
       "  </thead>\n",
       "  <tbody>\n",
       "    <tr>\n",
       "      <td>311</td>\n",
       "      <td>12097</td>\n",
       "      <td>KENTUCKY FRIED CHICKEN</td>\n",
       "      <td>320 N SOTO ST</td>\n",
       "      <td>True</td>\n",
       "      <td>Fast Food</td>\n",
       "      <td>25</td>\n",
       "    </tr>\n",
       "    <tr>\n",
       "      <td>727</td>\n",
       "      <td>12513</td>\n",
       "      <td>KENTUCKY FRIED CHICKEN</td>\n",
       "      <td>708 S BROADWAY</td>\n",
       "      <td>True</td>\n",
       "      <td>Fast Food</td>\n",
       "      <td>104</td>\n",
       "    </tr>\n",
       "    <tr>\n",
       "      <td>895</td>\n",
       "      <td>12681</td>\n",
       "      <td>KENTUCKY FRIED CHICKEN</td>\n",
       "      <td>5925 W 3RD ST</td>\n",
       "      <td>True</td>\n",
       "      <td>Fast Food</td>\n",
       "      <td>20</td>\n",
       "    </tr>\n",
       "    <tr>\n",
       "      <td>2943</td>\n",
       "      <td>14729</td>\n",
       "      <td>KENTUCKY FRIED CHICKEN</td>\n",
       "      <td>10501 W PICO BLVD</td>\n",
       "      <td>True</td>\n",
       "      <td>Fast Food</td>\n",
       "      <td>37</td>\n",
       "    </tr>\n",
       "    <tr>\n",
       "      <td>3957</td>\n",
       "      <td>15743</td>\n",
       "      <td>KENTUCKY FRIED CHICKEN</td>\n",
       "      <td>1400 GLENDALE BLVD</td>\n",
       "      <td>True</td>\n",
       "      <td>Fast Food</td>\n",
       "      <td>39</td>\n",
       "    </tr>\n",
       "  </tbody>\n",
       "</table>\n",
       "</div>"
      ],
      "text/plain": [
       "         id             object_name             address chain object_type  \\\n",
       "311   12097  KENTUCKY FRIED CHICKEN       320 N SOTO ST  True   Fast Food   \n",
       "727   12513  KENTUCKY FRIED CHICKEN      708 S BROADWAY  True   Fast Food   \n",
       "895   12681  KENTUCKY FRIED CHICKEN       5925 W 3RD ST  True   Fast Food   \n",
       "2943  14729  KENTUCKY FRIED CHICKEN   10501 W PICO BLVD  True   Fast Food   \n",
       "3957  15743  KENTUCKY FRIED CHICKEN  1400 GLENDALE BLVD  True   Fast Food   \n",
       "\n",
       "      number  \n",
       "311       25  \n",
       "727      104  \n",
       "895       20  \n",
       "2943      37  \n",
       "3957      39  "
      ]
     },
     "execution_count": 26,
     "metadata": {},
     "output_type": "execute_result"
    }
   ],
   "source": [
    "#selecting values\n",
    "df.query(\"object_name == 'KENTUCKY FRIED CHICKEN'\").head()"
   ]
  },
  {
   "cell_type": "markdown",
   "metadata": {},
   "source": [
    "I found that the same establishment's name is written differently and python see it as totally different restaurants."
   ]
  },
  {
   "cell_type": "code",
   "execution_count": 27,
   "metadata": {},
   "outputs": [
    {
     "data": {
      "text/plain": [
       "3607 TROUSDALE PKWY         11\n",
       "135 N GRAND AVE             10\n",
       "5151 STATE UNIVERSITY DR     9\n",
       "600 WORLD WAY                9\n",
       "400 WORLD WAY                9\n",
       "                            ..\n",
       "2010 N HIGHLAND AVE          1\n",
       "3460 W 8TH ST                1\n",
       "8428 MELROSE PL STE #A       1\n",
       "11750 JEFFERSON BLVD         1\n",
       "978 GAYLEY AVE               1\n",
       "Name: address, Length: 8517, dtype: int64"
      ]
     },
     "execution_count": 27,
     "metadata": {},
     "output_type": "execute_result"
    }
   ],
   "source": [
    "#checking values in column 'adress'\n",
    "df.address.value_counts()"
   ]
  },
  {
   "cell_type": "markdown",
   "metadata": {},
   "source": [
    "We have full adress here and everything looks ok."
   ]
  },
  {
   "cell_type": "code",
   "execution_count": 28,
   "metadata": {},
   "outputs": [
    {
     "data": {
      "text/plain": [
       "False    5972\n",
       "True     3676\n",
       "Name: chain, dtype: int64"
      ]
     },
     "execution_count": 28,
     "metadata": {},
     "output_type": "execute_result"
    }
   ],
   "source": [
    "#checking values in column 'chain'\n",
    "df.chain.value_counts()"
   ]
  },
  {
   "cell_type": "markdown",
   "metadata": {},
   "source": [
    "We have more not chain establishments.  \n",
    "Let's check if there is any mistakes:"
   ]
  },
  {
   "cell_type": "code",
   "execution_count": 29,
   "metadata": {},
   "outputs": [],
   "source": [
    "#creating parameter with names of chain restaurants\n",
    "chain_est = df.query('chain == True')['object_name']"
   ]
  },
  {
   "cell_type": "code",
   "execution_count": 30,
   "metadata": {},
   "outputs": [
    {
     "data": {
      "text/plain": [
       "True     3676\n",
       "False       9\n",
       "Name: chain, dtype: int64"
      ]
     },
     "execution_count": 30,
     "metadata": {},
     "output_type": "execute_result"
    }
   ],
   "source": [
    "#checking if all chain restaurants are indicated as chain in the table\n",
    "df.query('object_name in @chain_est')['chain'].value_counts()"
   ]
  },
  {
   "cell_type": "markdown",
   "metadata": {},
   "source": [
    "I found that some of the chain establishments indicated as not chain in the table."
   ]
  },
  {
   "cell_type": "code",
   "execution_count": 31,
   "metadata": {},
   "outputs": [],
   "source": [
    "#creating parameter with establishments with more than 1 place\n",
    "chain_est_2 = df.object_name.value_counts().reset_index()\n",
    "chain_est_2.columns = ['object_name', 'number']\n",
    "chain_est_2 = chain_est_2.query('number > 1')\n",
    "chain_est_2 = chain_est_2.object_name"
   ]
  },
  {
   "cell_type": "code",
   "execution_count": 32,
   "metadata": {},
   "outputs": [
    {
     "data": {
      "text/plain": [
       "True     1441\n",
       "False      62\n",
       "Name: chain, dtype: int64"
      ]
     },
     "execution_count": 32,
     "metadata": {},
     "output_type": "execute_result"
    }
   ],
   "source": [
    "#checking if these restaurants are indicated as chain in the table\n",
    "df.query('object_name in @chain_est_2')['chain'].value_counts()"
   ]
  },
  {
   "cell_type": "markdown",
   "metadata": {},
   "source": [
    "I found that some of the establishments have more than one place and not indicated as chain in the table."
   ]
  },
  {
   "cell_type": "code",
   "execution_count": 33,
   "metadata": {},
   "outputs": [
    {
     "data": {
      "text/plain": [
       "MARISCOS GUADALAJARA RESTAURANTE    1\n",
       "GIGI'S BAKERY & CAFE                1\n",
       "PANDA KING CHINESE FOOD             1\n",
       "EL BUEN GUSTO                       1\n",
       "YOSHINOYA #1210                     1\n",
       "WING STOP REST #3                   1\n",
       "STARBUCKS #27874                    1\n",
       "SUPER KING MARKET-BAKERY            1\n",
       "ORIENTAL HOUSE RESTAURANT           1\n",
       "AN DONG GOOK SI                     1\n",
       "Name: object_name, dtype: int64"
      ]
     },
     "execution_count": 33,
     "metadata": {},
     "output_type": "execute_result"
    }
   ],
   "source": [
    "#selecting chain restaurants\n",
    "df.query('chain == True')['object_name'].value_counts().tail(10)"
   ]
  },
  {
   "cell_type": "markdown",
   "metadata": {},
   "source": [
    "Some of the establishments have one place and indicated as chain.  \n",
    "Some of them have numbers in the name and python count it as independent restaurant, some of them may have only one place in this city."
   ]
  },
  {
   "cell_type": "code",
   "execution_count": 34,
   "metadata": {},
   "outputs": [
    {
     "data": {
      "image/png": "[encoded data removed]",
      "text/plain": [
       "<Figure size 1008x576 with 1 Axes>"
      ]
     },
     "metadata": {
      "needs_background": "light"
     },
     "output_type": "display_data"
    }
   ],
   "source": [
    "#checking values in column 'object_type'\n",
    "#making graph\n",
    "ax = df.object_type.value_counts().plot(kind='bar', color=\"coral\", figsize=(14,8))\n",
    "#putting text on the graph\n",
    "for p in ax.patches:\n",
    "    ax.annotate(format(p.get_height(), '.0f'), \n",
    "                   (p.get_x() + p.get_width() / 2., p.get_height()), \n",
    "                   ha = 'center', va = 'center', \n",
    "                   xytext = (0, 9), \n",
    "                   textcoords = 'offset points')\n",
    "#creating graph captions\n",
    "plt.xlabel('Establishments type')\n",
    "plt.ylabel('Number of establishments')\n",
    "plt.title('Number of places by establishments types', fontsize=16)\n",
    "plt.ylim(0, 8000)\n",
    "plt.show()"
   ]
  },
  {
   "cell_type": "markdown",
   "metadata": {},
   "source": [
    "Everything looks ok. Most of the establishments are restaurants.  \n",
    "I will check if each venues will have correct type after data preprocessing."
   ]
  },
  {
   "cell_type": "markdown",
   "metadata": {},
   "source": [
    "#### Conclusion <a class=\"anchor\" id=\"chapter21\"></a>"
   ]
  },
  {
   "cell_type": "markdown",
   "metadata": {},
   "source": [
    "Data set was studied.  \n",
    "I found that: \n",
    "- values in columns 'object_name' and 'adress' need to be lower case;\n",
    "- missing values in column 'chain' correspond to not chain establishments;\n",
    "- there are some names with numbers and symbols;\n",
    "- there is one restaurant with only numbers in the name;\n",
    "- the same establishment's name is written differently;\n",
    "- some of the chain establishments indicated as not chain in the table;\n",
    "- some of the establishments have more than one place and not indicated as chain in the table."
   ]
  },
  {
   "cell_type": "markdown",
   "metadata": {},
   "source": [
    "[Back to the Table of Contents](#contents)"
   ]
  },
  {
   "cell_type": "markdown",
   "metadata": {},
   "source": [
    "### 3. Data preprocessing <a class=\"anchor\" id=\"chapter5\"></a>"
   ]
  },
  {
   "cell_type": "code",
   "execution_count": 35,
   "metadata": {},
   "outputs": [
    {
     "data": {
      "text/html": [
       "<div>\n",
       "<style scoped>\n",
       "    .dataframe tbody tr th:only-of-type {\n",
       "        vertical-align: middle;\n",
       "    }\n",
       "\n",
       "    .dataframe tbody tr th {\n",
       "        vertical-align: top;\n",
       "    }\n",
       "\n",
       "    .dataframe thead th {\n",
       "        text-align: right;\n",
       "    }\n",
       "</style>\n",
       "<table border=\"1\" class=\"dataframe\">\n",
       "  <thead>\n",
       "    <tr style=\"text-align: right;\">\n",
       "      <th></th>\n",
       "      <th>id</th>\n",
       "      <th>object_name</th>\n",
       "      <th>address</th>\n",
       "      <th>chain</th>\n",
       "      <th>object_type</th>\n",
       "      <th>number</th>\n",
       "    </tr>\n",
       "  </thead>\n",
       "  <tbody>\n",
       "    <tr>\n",
       "      <td>889</td>\n",
       "      <td>12675</td>\n",
       "      <td>fusion burgers</td>\n",
       "      <td>5933 york blvd</td>\n",
       "      <td>False</td>\n",
       "      <td>Fast Food</td>\n",
       "      <td>11</td>\n",
       "    </tr>\n",
       "    <tr>\n",
       "      <td>1196</td>\n",
       "      <td>12982</td>\n",
       "      <td>casa bianca</td>\n",
       "      <td>1650 colorado blvd</td>\n",
       "      <td>False</td>\n",
       "      <td>Restaurant</td>\n",
       "      <td>111</td>\n",
       "    </tr>\n",
       "    <tr>\n",
       "      <td>2943</td>\n",
       "      <td>14729</td>\n",
       "      <td>kentucky fried chicken</td>\n",
       "      <td>10501 w pico blvd</td>\n",
       "      <td>True</td>\n",
       "      <td>Fast Food</td>\n",
       "      <td>37</td>\n",
       "    </tr>\n",
       "    <tr>\n",
       "      <td>5131</td>\n",
       "      <td>16917</td>\n",
       "      <td>electric owl</td>\n",
       "      <td>1451 n gardner st</td>\n",
       "      <td>False</td>\n",
       "      <td>Restaurant</td>\n",
       "      <td>91</td>\n",
       "    </tr>\n",
       "    <tr>\n",
       "      <td>8687</td>\n",
       "      <td>20473</td>\n",
       "      <td>guerrilla tacos</td>\n",
       "      <td>2000 e 7th st</td>\n",
       "      <td>False</td>\n",
       "      <td>Fast Food</td>\n",
       "      <td>35</td>\n",
       "    </tr>\n",
       "  </tbody>\n",
       "</table>\n",
       "</div>"
      ],
      "text/plain": [
       "         id             object_name             address  chain object_type  \\\n",
       "889   12675          fusion burgers      5933 york blvd  False   Fast Food   \n",
       "1196  12982             casa bianca  1650 colorado blvd  False  Restaurant   \n",
       "2943  14729  kentucky fried chicken   10501 w pico blvd   True   Fast Food   \n",
       "5131  16917            electric owl   1451 n gardner st  False  Restaurant   \n",
       "8687  20473         guerrilla tacos       2000 e 7th st  False   Fast Food   \n",
       "\n",
       "      number  \n",
       "889       11  \n",
       "1196     111  \n",
       "2943      37  \n",
       "5131      91  \n",
       "8687      35  "
      ]
     },
     "execution_count": 35,
     "metadata": {},
     "output_type": "execute_result"
    }
   ],
   "source": [
    "#changing letter case in columns\n",
    "df.object_name = df.object_name.str.lower()\n",
    "df.address = df.address.str.lower()\n",
    "#checking result\n",
    "df.sample(5)"
   ]
  },
  {
   "cell_type": "markdown",
   "metadata": {},
   "source": [
    "I changed letter case in columns."
   ]
  },
  {
   "cell_type": "code",
   "execution_count": 36,
   "metadata": {},
   "outputs": [
    {
     "name": "stdout",
     "output_type": "stream",
     "text": [
      "<class 'pandas.core.frame.DataFrame'>\n",
      "RangeIndex: 9651 entries, 0 to 9650\n",
      "Data columns (total 6 columns):\n",
      "id             9651 non-null int64\n",
      "object_name    9651 non-null object\n",
      "address        9651 non-null object\n",
      "chain          9651 non-null bool\n",
      "object_type    9651 non-null object\n",
      "number         9651 non-null int64\n",
      "dtypes: bool(1), int64(2), object(3)\n",
      "memory usage: 386.5+ KB\n"
     ]
    }
   ],
   "source": [
    "#filling missing values in column 'chain'\n",
    "df.chain = df.chain.fillna(False)\n",
    "#checking result\n",
    "df.info()"
   ]
  },
  {
   "cell_type": "markdown",
   "metadata": {},
   "source": [
    "Missing values were filled."
   ]
  },
  {
   "cell_type": "markdown",
   "metadata": {},
   "source": [
    "[Back to the Table of Contents](#contents)"
   ]
  },
  {
   "cell_type": "markdown",
   "metadata": {},
   "source": [
    "#### 3.1 Processing name of the establishment <a class=\"anchor\" id=\"chapter6\"></a>"
   ]
  },
  {
   "cell_type": "code",
   "execution_count": 37,
   "metadata": {},
   "outputs": [
    {
     "data": {
      "text/html": [
       "<div>\n",
       "<style scoped>\n",
       "    .dataframe tbody tr th:only-of-type {\n",
       "        vertical-align: middle;\n",
       "    }\n",
       "\n",
       "    .dataframe tbody tr th {\n",
       "        vertical-align: top;\n",
       "    }\n",
       "\n",
       "    .dataframe thead th {\n",
       "        text-align: right;\n",
       "    }\n",
       "</style>\n",
       "<table border=\"1\" class=\"dataframe\">\n",
       "  <thead>\n",
       "    <tr style=\"text-align: right;\">\n",
       "      <th></th>\n",
       "      <th>id</th>\n",
       "      <th>object_name</th>\n",
       "      <th>address</th>\n",
       "      <th>chain</th>\n",
       "      <th>object_type</th>\n",
       "      <th>number</th>\n",
       "    </tr>\n",
       "  </thead>\n",
       "  <tbody>\n",
       "    <tr>\n",
       "      <td>1445</td>\n",
       "      <td>13231</td>\n",
       "      <td>ThreeThreeThree</td>\n",
       "      <td>333 s boylston st</td>\n",
       "      <td>True</td>\n",
       "      <td>Restaurant</td>\n",
       "      <td>180</td>\n",
       "    </tr>\n",
       "  </tbody>\n",
       "</table>\n",
       "</div>"
      ],
      "text/plain": [
       "         id      object_name            address  chain object_type  number\n",
       "1445  13231  ThreeThreeThree  333 s boylston st   True  Restaurant     180"
      ]
     },
     "execution_count": 37,
     "metadata": {},
     "output_type": "execute_result"
    }
   ],
   "source": [
    "#rename value with only number in the name\n",
    "df['object_name'] = df['object_name'].replace(\"333\", \"ThreeThreeThree\")\n",
    "#checking result\n",
    "df.query('id == 13231')"
   ]
  },
  {
   "cell_type": "markdown",
   "metadata": {},
   "source": [
    "Restaurant 333 was renamed as \"ThreeThreeThree\"."
   ]
  },
  {
   "cell_type": "code",
   "execution_count": 38,
   "metadata": {},
   "outputs": [
    {
     "data": {
      "text/html": [
       "<div>\n",
       "<style scoped>\n",
       "    .dataframe tbody tr th:only-of-type {\n",
       "        vertical-align: middle;\n",
       "    }\n",
       "\n",
       "    .dataframe tbody tr th {\n",
       "        vertical-align: top;\n",
       "    }\n",
       "\n",
       "    .dataframe thead th {\n",
       "        text-align: right;\n",
       "    }\n",
       "</style>\n",
       "<table border=\"1\" class=\"dataframe\">\n",
       "  <thead>\n",
       "    <tr style=\"text-align: right;\">\n",
       "      <th></th>\n",
       "      <th>id</th>\n",
       "      <th>object_name</th>\n",
       "      <th>address</th>\n",
       "      <th>chain</th>\n",
       "      <th>object_type</th>\n",
       "      <th>number</th>\n",
       "      <th>place_name</th>\n",
       "    </tr>\n",
       "  </thead>\n",
       "  <tbody>\n",
       "    <tr>\n",
       "      <td>9646</td>\n",
       "      <td>21432</td>\n",
       "      <td>hall of justice</td>\n",
       "      <td>217 w temple ave</td>\n",
       "      <td>False</td>\n",
       "      <td>Restaurant</td>\n",
       "      <td>122</td>\n",
       "      <td>hall of justice</td>\n",
       "    </tr>\n",
       "    <tr>\n",
       "      <td>9647</td>\n",
       "      <td>21433</td>\n",
       "      <td>fin-melrose</td>\n",
       "      <td>5750 melrose ave</td>\n",
       "      <td>False</td>\n",
       "      <td>Restaurant</td>\n",
       "      <td>93</td>\n",
       "      <td>finmelrose</td>\n",
       "    </tr>\n",
       "    <tr>\n",
       "      <td>9648</td>\n",
       "      <td>21434</td>\n",
       "      <td>juicy wingz</td>\n",
       "      <td>6741 hollywood blvd</td>\n",
       "      <td>True</td>\n",
       "      <td>Fast Food</td>\n",
       "      <td>15</td>\n",
       "      <td>juicy wingz</td>\n",
       "    </tr>\n",
       "    <tr>\n",
       "      <td>9649</td>\n",
       "      <td>21435</td>\n",
       "      <td>medidate coffee</td>\n",
       "      <td>548 s spring st ste 100</td>\n",
       "      <td>False</td>\n",
       "      <td>Cafe</td>\n",
       "      <td>6</td>\n",
       "      <td>medidate coffee</td>\n",
       "    </tr>\n",
       "    <tr>\n",
       "      <td>9650</td>\n",
       "      <td>21436</td>\n",
       "      <td>cafe sprouts</td>\n",
       "      <td>1300 s san pedro st ste 111</td>\n",
       "      <td>True</td>\n",
       "      <td>Restaurant</td>\n",
       "      <td>19</td>\n",
       "      <td>cafe sprouts</td>\n",
       "    </tr>\n",
       "  </tbody>\n",
       "</table>\n",
       "</div>"
      ],
      "text/plain": [
       "         id      object_name                      address  chain object_type  \\\n",
       "9646  21432  hall of justice             217 w temple ave  False  Restaurant   \n",
       "9647  21433      fin-melrose             5750 melrose ave  False  Restaurant   \n",
       "9648  21434      juicy wingz          6741 hollywood blvd   True   Fast Food   \n",
       "9649  21435  medidate coffee      548 s spring st ste 100  False        Cafe   \n",
       "9650  21436     cafe sprouts  1300 s san pedro st ste 111   True  Restaurant   \n",
       "\n",
       "      number       place_name  \n",
       "9646     122  hall of justice  \n",
       "9647      93       finmelrose  \n",
       "9648      15      juicy wingz  \n",
       "9649       6  medidate coffee  \n",
       "9650      19     cafe sprouts  "
      ]
     },
     "execution_count": 38,
     "metadata": {},
     "output_type": "execute_result"
    }
   ],
   "source": [
    "#removing all numbers and symbols from the names\n",
    "pattern = re.compile(\"[\\\\'\\\\-@_!#$%^*()<>?/\\|}{~:(0-9)]\")\n",
    "#creating new column with names without numbers and symbols\n",
    "df['place_name'] = [pattern.sub('', x) for x in df['object_name']]\n",
    "df.tail()"
   ]
  },
  {
   "cell_type": "code",
   "execution_count": 39,
   "metadata": {},
   "outputs": [
    {
     "data": {
      "text/html": [
       "<div>\n",
       "<style scoped>\n",
       "    .dataframe tbody tr th:only-of-type {\n",
       "        vertical-align: middle;\n",
       "    }\n",
       "\n",
       "    .dataframe tbody tr th {\n",
       "        vertical-align: top;\n",
       "    }\n",
       "\n",
       "    .dataframe thead th {\n",
       "        text-align: right;\n",
       "    }\n",
       "</style>\n",
       "<table border=\"1\" class=\"dataframe\">\n",
       "  <thead>\n",
       "    <tr style=\"text-align: right;\">\n",
       "      <th></th>\n",
       "      <th>id</th>\n",
       "      <th>object_name</th>\n",
       "      <th>address</th>\n",
       "      <th>chain</th>\n",
       "      <th>object_type</th>\n",
       "      <th>number</th>\n",
       "      <th>place_name</th>\n",
       "    </tr>\n",
       "  </thead>\n",
       "  <tbody>\n",
       "  </tbody>\n",
       "</table>\n",
       "</div>"
      ],
      "text/plain": [
       "Empty DataFrame\n",
       "Columns: [id, object_name, address, chain, object_type, number, place_name]\n",
       "Index: []"
      ]
     },
     "execution_count": 39,
     "metadata": {},
     "output_type": "execute_result"
    }
   ],
   "source": [
    "#checking result\n",
    "df.loc[df[\"place_name\"].str.contains(\"[\\\\'\\\\-@_!#$%^*()<>?/\\|}{~:(0-9)]\")] "
   ]
  },
  {
   "cell_type": "markdown",
   "metadata": {},
   "source": [
    "All the symbols and numbers were removed from the object name and saved in column 'place_name'."
   ]
  },
  {
   "cell_type": "code",
   "execution_count": 40,
   "metadata": {},
   "outputs": [
    {
     "name": "stdout",
     "output_type": "stream",
     "text": [
      "Number of unique establishments: 8672\n",
      "Number of unique establishments after removing: 7948\n"
     ]
    }
   ],
   "source": [
    "#calculating number of unique establishment\n",
    "print('Number of unique establishments:', df.object_name.nunique())\n",
    "print('Number of unique establishments after removing:', df.place_name.nunique())"
   ]
  },
  {
   "cell_type": "code",
   "execution_count": 41,
   "metadata": {},
   "outputs": [
    {
     "data": {
      "text/html": [
       "<div>\n",
       "<style scoped>\n",
       "    .dataframe tbody tr th:only-of-type {\n",
       "        vertical-align: middle;\n",
       "    }\n",
       "\n",
       "    .dataframe tbody tr th {\n",
       "        vertical-align: top;\n",
       "    }\n",
       "\n",
       "    .dataframe thead th {\n",
       "        text-align: right;\n",
       "    }\n",
       "</style>\n",
       "<table border=\"1\" class=\"dataframe\">\n",
       "  <thead>\n",
       "    <tr style=\"text-align: right;\">\n",
       "      <th></th>\n",
       "      <th>id</th>\n",
       "      <th>object_name</th>\n",
       "      <th>address</th>\n",
       "      <th>chain</th>\n",
       "      <th>object_type</th>\n",
       "      <th>number</th>\n",
       "      <th>place_name</th>\n",
       "    </tr>\n",
       "  </thead>\n",
       "  <tbody>\n",
       "    <tr>\n",
       "      <td>1055</td>\n",
       "      <td>12841</td>\n",
       "      <td>chick-fil-a at 405 @ jefferson (la) fsu</td>\n",
       "      <td>11750 jefferson blvd</td>\n",
       "      <td>True</td>\n",
       "      <td>Restaurant</td>\n",
       "      <td>161</td>\n",
       "      <td>chickfila at   jefferson la fsu</td>\n",
       "    </tr>\n",
       "    <tr>\n",
       "      <td>1240</td>\n",
       "      <td>13026</td>\n",
       "      <td>market cafe @ 550 s hope st</td>\n",
       "      <td>550 s hope st</td>\n",
       "      <td>False</td>\n",
       "      <td>Restaurant</td>\n",
       "      <td>11</td>\n",
       "      <td>market cafe   s hope st</td>\n",
       "    </tr>\n",
       "    <tr>\n",
       "      <td>1261</td>\n",
       "      <td>13047</td>\n",
       "      <td>the la hotel downtown -  main kitchen</td>\n",
       "      <td>333 s figueroa st # 104</td>\n",
       "      <td>True</td>\n",
       "      <td>Restaurant</td>\n",
       "      <td>159</td>\n",
       "      <td>the la hotel downtown   main kitchen</td>\n",
       "    </tr>\n",
       "    <tr>\n",
       "      <td>1934</td>\n",
       "      <td>13720</td>\n",
       "      <td>the slipper clutch - ( 1st level )</td>\n",
       "      <td>351 s broadway</td>\n",
       "      <td>False</td>\n",
       "      <td>Restaurant</td>\n",
       "      <td>47</td>\n",
       "      <td>the slipper clutch   st level</td>\n",
       "    </tr>\n",
       "    <tr>\n",
       "      <td>4289</td>\n",
       "      <td>16075</td>\n",
       "      <td>yogurtland central /  slauson</td>\n",
       "      <td>5857 s central ave #120</td>\n",
       "      <td>True</td>\n",
       "      <td>Restaurant</td>\n",
       "      <td>4</td>\n",
       "      <td>yogurtland central   slauson</td>\n",
       "    </tr>\n",
       "    <tr>\n",
       "      <td>5257</td>\n",
       "      <td>17043</td>\n",
       "      <td>starbucks  @ usc</td>\n",
       "      <td>642 w 34th st</td>\n",
       "      <td>True</td>\n",
       "      <td>Cafe</td>\n",
       "      <td>17</td>\n",
       "      <td>starbucks   usc</td>\n",
       "    </tr>\n",
       "    <tr>\n",
       "      <td>5456</td>\n",
       "      <td>17242</td>\n",
       "      <td>bar clacson - ( 2nd level )</td>\n",
       "      <td>351 s broadway</td>\n",
       "      <td>False</td>\n",
       "      <td>Bar</td>\n",
       "      <td>17</td>\n",
       "      <td>bar clacson   nd level</td>\n",
       "    </tr>\n",
       "    <tr>\n",
       "      <td>5530</td>\n",
       "      <td>17316</td>\n",
       "      <td>starbucks -  departure</td>\n",
       "      <td>200 world way # t231</td>\n",
       "      <td>True</td>\n",
       "      <td>Cafe</td>\n",
       "      <td>16</td>\n",
       "      <td>starbucks   departure</td>\n",
       "    </tr>\n",
       "    <tr>\n",
       "      <td>5763</td>\n",
       "      <td>17549</td>\n",
       "      <td>togo's / 31 baskin robbins</td>\n",
       "      <td>6104 w sunset blvd</td>\n",
       "      <td>True</td>\n",
       "      <td>Restaurant</td>\n",
       "      <td>41</td>\n",
       "      <td>togos   baskin robbins</td>\n",
       "    </tr>\n",
       "    <tr>\n",
       "      <td>6327</td>\n",
       "      <td>18113</td>\n",
       "      <td>starbucks (coffee bar) level 1 - ucla</td>\n",
       "      <td>10833 le conte ave</td>\n",
       "      <td>True</td>\n",
       "      <td>Cafe</td>\n",
       "      <td>36</td>\n",
       "      <td>starbucks coffee bar level   ucla</td>\n",
       "    </tr>\n",
       "    <tr>\n",
       "      <td>7150</td>\n",
       "      <td>18936</td>\n",
       "      <td>marry -  robbs</td>\n",
       "      <td>1453 westwood blvd</td>\n",
       "      <td>False</td>\n",
       "      <td>Restaurant</td>\n",
       "      <td>83</td>\n",
       "      <td>marry   robbs</td>\n",
       "    </tr>\n",
       "  </tbody>\n",
       "</table>\n",
       "</div>"
      ],
      "text/plain": [
       "         id                              object_name                  address  \\\n",
       "1055  12841  chick-fil-a at 405 @ jefferson (la) fsu     11750 jefferson blvd   \n",
       "1240  13026              market cafe @ 550 s hope st            550 s hope st   \n",
       "1261  13047    the la hotel downtown -  main kitchen  333 s figueroa st # 104   \n",
       "1934  13720       the slipper clutch - ( 1st level )           351 s broadway   \n",
       "4289  16075            yogurtland central /  slauson  5857 s central ave #120   \n",
       "5257  17043                         starbucks  @ usc            642 w 34th st   \n",
       "5456  17242              bar clacson - ( 2nd level )           351 s broadway   \n",
       "5530  17316                   starbucks -  departure     200 world way # t231   \n",
       "5763  17549               togo's / 31 baskin robbins       6104 w sunset blvd   \n",
       "6327  18113    starbucks (coffee bar) level 1 - ucla       10833 le conte ave   \n",
       "7150  18936                           marry -  robbs       1453 westwood blvd   \n",
       "\n",
       "      chain object_type  number                            place_name  \n",
       "1055   True  Restaurant     161       chickfila at   jefferson la fsu  \n",
       "1240  False  Restaurant      11               market cafe   s hope st  \n",
       "1261   True  Restaurant     159  the la hotel downtown   main kitchen  \n",
       "1934  False  Restaurant      47        the slipper clutch   st level   \n",
       "4289   True  Restaurant       4          yogurtland central   slauson  \n",
       "5257   True        Cafe      17                       starbucks   usc  \n",
       "5456  False         Bar      17               bar clacson   nd level   \n",
       "5530   True        Cafe      16                 starbucks   departure  \n",
       "5763   True  Restaurant      41                togos   baskin robbins  \n",
       "6327   True        Cafe      36     starbucks coffee bar level   ucla  \n",
       "7150  False  Restaurant      83                         marry   robbs  "
      ]
     },
     "execution_count": 41,
     "metadata": {},
     "output_type": "execute_result"
    }
   ],
   "source": [
    "#checking if there are extra spaces in the names\n",
    "df.loc[df[\"place_name\"].str.contains(\"\\\\  \")] \n",
    "df.loc[df[\"place_name\"].str.contains(\"\\\\   \")] "
   ]
  },
  {
   "cell_type": "markdown",
   "metadata": {},
   "source": [
    "I found names with extra 2 and 3 spaces in the name.  \n",
    "Python consider extra space in the name as different establishment. Therefore to avoid duplicates extra spaces will be deleted."
   ]
  },
  {
   "cell_type": "code",
   "execution_count": 42,
   "metadata": {},
   "outputs": [],
   "source": [
    "#removing extra spaces from the names\n",
    "pattern_2 = re.compile(\"\\\\   \")\n",
    "#replacing names with names without extra spaces\n",
    "df['place_name'] = [pattern_2.sub('', x) for x in df['place_name']]"
   ]
  },
  {
   "cell_type": "code",
   "execution_count": 43,
   "metadata": {},
   "outputs": [
    {
     "data": {
      "text/html": [
       "<div>\n",
       "<style scoped>\n",
       "    .dataframe tbody tr th:only-of-type {\n",
       "        vertical-align: middle;\n",
       "    }\n",
       "\n",
       "    .dataframe tbody tr th {\n",
       "        vertical-align: top;\n",
       "    }\n",
       "\n",
       "    .dataframe thead th {\n",
       "        text-align: right;\n",
       "    }\n",
       "</style>\n",
       "<table border=\"1\" class=\"dataframe\">\n",
       "  <thead>\n",
       "    <tr style=\"text-align: right;\">\n",
       "      <th></th>\n",
       "      <th>id</th>\n",
       "      <th>object_name</th>\n",
       "      <th>address</th>\n",
       "      <th>chain</th>\n",
       "      <th>object_type</th>\n",
       "      <th>number</th>\n",
       "      <th>place_name</th>\n",
       "    </tr>\n",
       "  </thead>\n",
       "  <tbody>\n",
       "  </tbody>\n",
       "</table>\n",
       "</div>"
      ],
      "text/plain": [
       "Empty DataFrame\n",
       "Columns: [id, object_name, address, chain, object_type, number, place_name]\n",
       "Index: []"
      ]
     },
     "execution_count": 43,
     "metadata": {},
     "output_type": "execute_result"
    }
   ],
   "source": [
    "#checking result\n",
    "df.loc[df[\"place_name\"].str.contains(\"\\\\   \")] "
   ]
  },
  {
   "cell_type": "code",
   "execution_count": 44,
   "metadata": {},
   "outputs": [],
   "source": [
    "#removing extra spaces from the names\n",
    "pattern_3 = re.compile(\"\\\\  \")\n",
    "#replacing names with names without extra spaces\n",
    "df['place_name'] = [pattern_3.sub('', x) for x in df['place_name']]"
   ]
  },
  {
   "cell_type": "code",
   "execution_count": 45,
   "metadata": {},
   "outputs": [
    {
     "data": {
      "text/html": [
       "<div>\n",
       "<style scoped>\n",
       "    .dataframe tbody tr th:only-of-type {\n",
       "        vertical-align: middle;\n",
       "    }\n",
       "\n",
       "    .dataframe tbody tr th {\n",
       "        vertical-align: top;\n",
       "    }\n",
       "\n",
       "    .dataframe thead th {\n",
       "        text-align: right;\n",
       "    }\n",
       "</style>\n",
       "<table border=\"1\" class=\"dataframe\">\n",
       "  <thead>\n",
       "    <tr style=\"text-align: right;\">\n",
       "      <th></th>\n",
       "      <th>id</th>\n",
       "      <th>object_name</th>\n",
       "      <th>address</th>\n",
       "      <th>chain</th>\n",
       "      <th>object_type</th>\n",
       "      <th>number</th>\n",
       "      <th>place_name</th>\n",
       "    </tr>\n",
       "  </thead>\n",
       "  <tbody>\n",
       "  </tbody>\n",
       "</table>\n",
       "</div>"
      ],
      "text/plain": [
       "Empty DataFrame\n",
       "Columns: [id, object_name, address, chain, object_type, number, place_name]\n",
       "Index: []"
      ]
     },
     "execution_count": 45,
     "metadata": {},
     "output_type": "execute_result"
    }
   ],
   "source": [
    "#checking result\n",
    "df.loc[df[\"place_name\"].str.contains(\"\\\\  \")] "
   ]
  },
  {
   "cell_type": "markdown",
   "metadata": {},
   "source": [
    "All the extra spaces were removed from the place name."
   ]
  },
  {
   "cell_type": "code",
   "execution_count": 46,
   "metadata": {},
   "outputs": [
    {
     "name": "stdout",
     "output_type": "stream",
     "text": [
      "Number of unique establishments: 8672\n",
      "Number of unique establishments after removing: 7926\n"
     ]
    }
   ],
   "source": [
    "#calculating number of unique establishment\n",
    "print('Number of unique establishments:', df.object_name.nunique())\n",
    "print('Number of unique establishments after removing:', df.place_name.nunique())"
   ]
  },
  {
   "cell_type": "code",
   "execution_count": 47,
   "metadata": {},
   "outputs": [
    {
     "data": {
      "text/html": [
       "<div>\n",
       "<style scoped>\n",
       "    .dataframe tbody tr th:only-of-type {\n",
       "        vertical-align: middle;\n",
       "    }\n",
       "\n",
       "    .dataframe tbody tr th {\n",
       "        vertical-align: top;\n",
       "    }\n",
       "\n",
       "    .dataframe thead th {\n",
       "        text-align: right;\n",
       "    }\n",
       "</style>\n",
       "<table border=\"1\" class=\"dataframe\">\n",
       "  <thead>\n",
       "    <tr style=\"text-align: right;\">\n",
       "      <th></th>\n",
       "      <th>id</th>\n",
       "      <th>object_name</th>\n",
       "      <th>address</th>\n",
       "      <th>chain</th>\n",
       "      <th>object_type</th>\n",
       "      <th>number</th>\n",
       "      <th>place_name</th>\n",
       "    </tr>\n",
       "  </thead>\n",
       "  <tbody>\n",
       "    <tr>\n",
       "      <td>30</td>\n",
       "      <td>11816</td>\n",
       "      <td>cafe 153</td>\n",
       "      <td>1125 3/4 wall st</td>\n",
       "      <td>False</td>\n",
       "      <td>Restaurant</td>\n",
       "      <td>5</td>\n",
       "      <td>cafe</td>\n",
       "    </tr>\n",
       "    <tr>\n",
       "      <td>40</td>\n",
       "      <td>11826</td>\n",
       "      <td>subway -52105</td>\n",
       "      <td>255 s grand ave ste 101</td>\n",
       "      <td>True</td>\n",
       "      <td>Fast Food</td>\n",
       "      <td>37</td>\n",
       "      <td>subway</td>\n",
       "    </tr>\n",
       "    <tr>\n",
       "      <td>42</td>\n",
       "      <td>11828</td>\n",
       "      <td>panda express #2596</td>\n",
       "      <td>1544 s la cienega blvd</td>\n",
       "      <td>True</td>\n",
       "      <td>Fast Food</td>\n",
       "      <td>22</td>\n",
       "      <td>panda express</td>\n",
       "    </tr>\n",
       "    <tr>\n",
       "      <td>49</td>\n",
       "      <td>11835</td>\n",
       "      <td>afc sushi at walgreens #1527</td>\n",
       "      <td>1501 n vine st</td>\n",
       "      <td>False</td>\n",
       "      <td>Restaurant</td>\n",
       "      <td>8</td>\n",
       "      <td>afc sushi at walgreens</td>\n",
       "    </tr>\n",
       "    <tr>\n",
       "      <td>55</td>\n",
       "      <td>11841</td>\n",
       "      <td>ralphs market #206</td>\n",
       "      <td>5429 hollywood blvd</td>\n",
       "      <td>False</td>\n",
       "      <td>Restaurant</td>\n",
       "      <td>22</td>\n",
       "      <td>ralphs market</td>\n",
       "    </tr>\n",
       "    <tr>\n",
       "      <td>...</td>\n",
       "      <td>...</td>\n",
       "      <td>...</td>\n",
       "      <td>...</td>\n",
       "      <td>...</td>\n",
       "      <td>...</td>\n",
       "      <td>...</td>\n",
       "      <td>...</td>\n",
       "    </tr>\n",
       "    <tr>\n",
       "      <td>9581</td>\n",
       "      <td>21367</td>\n",
       "      <td>chinatown express #1</td>\n",
       "      <td>4201 beverly blvd</td>\n",
       "      <td>True</td>\n",
       "      <td>Fast Food</td>\n",
       "      <td>24</td>\n",
       "      <td>chinatown express</td>\n",
       "    </tr>\n",
       "    <tr>\n",
       "      <td>9587</td>\n",
       "      <td>21373</td>\n",
       "      <td>valencia rest. group #1</td>\n",
       "      <td>727 n broadway # 120</td>\n",
       "      <td>False</td>\n",
       "      <td>Restaurant</td>\n",
       "      <td>39</td>\n",
       "      <td>valencia rest. group</td>\n",
       "    </tr>\n",
       "    <tr>\n",
       "      <td>9593</td>\n",
       "      <td>21379</td>\n",
       "      <td>panda express 2919</td>\n",
       "      <td>1810 w slauson ave</td>\n",
       "      <td>True</td>\n",
       "      <td>Fast Food</td>\n",
       "      <td>15</td>\n",
       "      <td>panda express</td>\n",
       "    </tr>\n",
       "    <tr>\n",
       "      <td>9632</td>\n",
       "      <td>21418</td>\n",
       "      <td>pizza de cal #36</td>\n",
       "      <td>252 e martin luther king jr blvd</td>\n",
       "      <td>False</td>\n",
       "      <td>Pizza</td>\n",
       "      <td>9</td>\n",
       "      <td>pizza de cal</td>\n",
       "    </tr>\n",
       "    <tr>\n",
       "      <td>9636</td>\n",
       "      <td>21422</td>\n",
       "      <td>chipotle #3094</td>\n",
       "      <td>6719 la tijera blvd # a-b</td>\n",
       "      <td>True</td>\n",
       "      <td>Restaurant</td>\n",
       "      <td>47</td>\n",
       "      <td>chipotle</td>\n",
       "    </tr>\n",
       "  </tbody>\n",
       "</table>\n",
       "<p>960 rows × 7 columns</p>\n",
       "</div>"
      ],
      "text/plain": [
       "         id                   object_name                           address  \\\n",
       "30    11816                      cafe 153                  1125 3/4 wall st   \n",
       "40    11826                 subway -52105           255 s grand ave ste 101   \n",
       "42    11828           panda express #2596            1544 s la cienega blvd   \n",
       "49    11835  afc sushi at walgreens #1527                    1501 n vine st   \n",
       "55    11841            ralphs market #206               5429 hollywood blvd   \n",
       "...     ...                           ...                               ...   \n",
       "9581  21367          chinatown express #1                 4201 beverly blvd   \n",
       "9587  21373       valencia rest. group #1              727 n broadway # 120   \n",
       "9593  21379            panda express 2919                1810 w slauson ave   \n",
       "9632  21418              pizza de cal #36  252 e martin luther king jr blvd   \n",
       "9636  21422                chipotle #3094         6719 la tijera blvd # a-b   \n",
       "\n",
       "      chain object_type  number               place_name  \n",
       "30    False  Restaurant       5                    cafe   \n",
       "40     True   Fast Food      37                  subway   \n",
       "42     True   Fast Food      22           panda express   \n",
       "49    False  Restaurant       8  afc sushi at walgreens   \n",
       "55    False  Restaurant      22           ralphs market   \n",
       "...     ...         ...     ...                      ...  \n",
       "9581   True   Fast Food      24       chinatown express   \n",
       "9587  False  Restaurant      39    valencia rest. group   \n",
       "9593   True   Fast Food      15           panda express   \n",
       "9632  False       Pizza       9            pizza de cal   \n",
       "9636   True  Restaurant      47                chipotle   \n",
       "\n",
       "[960 rows x 7 columns]"
      ]
     },
     "execution_count": 47,
     "metadata": {},
     "output_type": "execute_result"
    }
   ],
   "source": [
    "#checking if there are space in the beginning or in the end of the name\n",
    "df.loc[df[\"place_name\"].str.contains(\"^\\\\ \")]\n",
    "df.loc[df[\"place_name\"].str.contains(\"\\\\ $\")]"
   ]
  },
  {
   "cell_type": "markdown",
   "metadata": {},
   "source": [
    "I found names with space in the beginning or in the end of the value.  \n",
    "Python consider name with spaces in the beginning/end and name without space as different establishment.  \n",
    "Therefore to avoid duplicates extra spaces will be deleted."
   ]
  },
  {
   "cell_type": "code",
   "execution_count": 48,
   "metadata": {},
   "outputs": [],
   "source": [
    "#removing space from the beginning of the names\n",
    "pattern_4 = re.compile(\"^\\\\ \")\n",
    "#replacing\n",
    "df['place_name'] = [pattern_4.sub('', x) for x in df['place_name']]\n",
    "#removing space from the end of the names\n",
    "pattern_5 = re.compile(\"\\\\ $\")\n",
    "#creating\n",
    "df['place_name'] = [pattern_5.sub('', x) for x in df['place_name']]"
   ]
  },
  {
   "cell_type": "code",
   "execution_count": 49,
   "metadata": {},
   "outputs": [
    {
     "data": {
      "text/html": [
       "<div>\n",
       "<style scoped>\n",
       "    .dataframe tbody tr th:only-of-type {\n",
       "        vertical-align: middle;\n",
       "    }\n",
       "\n",
       "    .dataframe tbody tr th {\n",
       "        vertical-align: top;\n",
       "    }\n",
       "\n",
       "    .dataframe thead th {\n",
       "        text-align: right;\n",
       "    }\n",
       "</style>\n",
       "<table border=\"1\" class=\"dataframe\">\n",
       "  <thead>\n",
       "    <tr style=\"text-align: right;\">\n",
       "      <th></th>\n",
       "      <th>id</th>\n",
       "      <th>object_name</th>\n",
       "      <th>address</th>\n",
       "      <th>chain</th>\n",
       "      <th>object_type</th>\n",
       "      <th>number</th>\n",
       "      <th>place_name</th>\n",
       "    </tr>\n",
       "  </thead>\n",
       "  <tbody>\n",
       "  </tbody>\n",
       "</table>\n",
       "</div>"
      ],
      "text/plain": [
       "Empty DataFrame\n",
       "Columns: [id, object_name, address, chain, object_type, number, place_name]\n",
       "Index: []"
      ]
     },
     "execution_count": 49,
     "metadata": {},
     "output_type": "execute_result"
    }
   ],
   "source": [
    "#checking result\n",
    "df.loc[df[\"place_name\"].str.contains(\"^\\\\ \")]\n",
    "df.loc[df[\"place_name\"].str.contains(\"\\\\ $\")]"
   ]
  },
  {
   "cell_type": "markdown",
   "metadata": {},
   "source": [
    "Space before and after name were removed."
   ]
  },
  {
   "cell_type": "code",
   "execution_count": 50,
   "metadata": {},
   "outputs": [
    {
     "name": "stdout",
     "output_type": "stream",
     "text": [
      "Number of unique establishments before preprocessing: 8672\n",
      "Number of unique establishments after removing: 7806\n"
     ]
    }
   ],
   "source": [
    "#calculating number of unique establishment\n",
    "print('Number of unique establishments before preprocessing:', df.object_name.nunique())\n",
    "print('Number of unique establishments after removing:', df.place_name.nunique())"
   ]
  },
  {
   "cell_type": "code",
   "execution_count": 51,
   "metadata": {},
   "outputs": [
    {
     "data": {
      "text/plain": [
       "subway                        122\n",
       "starbucks coffee               88\n",
       "mcdonalds                      81\n",
       "jack in the box                52\n",
       "the coffee bean & tea leaf     51\n",
       "burger king                    38\n",
       "el pollo loco                  36\n",
       "dominos pizza                  33\n",
       "starbucks                      32\n",
       "taco bell                      30\n",
       "pizza hut                      30\n",
       "yoshinoya                      28\n",
       "carls jr                       27\n",
       "panda express                  23\n",
       "ralphs market                  21\n",
       "jamba juice                    19\n",
       "chipotle mexican grill         19\n",
       "kentucky fried chicken         16\n",
       "papa johns pizza               16\n",
       "little caesars                 16\n",
       "Name: place_name, dtype: int64"
      ]
     },
     "execution_count": 51,
     "metadata": {},
     "output_type": "execute_result"
    }
   ],
   "source": [
    "#checking top 20 of the chain restaurants \n",
    "df.place_name.value_counts().head(20)"
   ]
  },
  {
   "cell_type": "code",
   "execution_count": 52,
   "metadata": {},
   "outputs": [
    {
     "data": {
      "text/plain": [
       "array(['starbucks coffee', 'starbucks', 'starbucks evening',\n",
       "       'starbucksusc', 'starbucksdeparture', 'starbucksarrival',\n",
       "       'starbucks coffee corporation', 'starbucks store',\n",
       "       'starbucks coffee bar levelucla', 'starbucksla cafe',\n",
       "       'starbuck coffee', 'starbucks cafe'], dtype=object)"
      ]
     },
     "execution_count": 52,
     "metadata": {},
     "output_type": "execute_result"
    }
   ],
   "source": [
    "#checkin name variations\n",
    "df.loc[df[\"place_name\"].str.contains(\"^starbuck\")]['place_name'].unique()"
   ]
  },
  {
   "cell_type": "markdown",
   "metadata": {},
   "source": [
    "As we can see there are a lot of variations of the name for Starbucks restaurant in this table. And python consider that as different places.  \n",
    "I assume that it was a typo or programming error (if data were collected automatically)."
   ]
  },
  {
   "cell_type": "code",
   "execution_count": 53,
   "metadata": {},
   "outputs": [],
   "source": [
    "#creating parameter with variations\n",
    "starbucks = df.loc[df[\"place_name\"].str.contains(\"^starbuck\")]['place_name'].unique()"
   ]
  },
  {
   "cell_type": "code",
   "execution_count": 54,
   "metadata": {},
   "outputs": [],
   "source": [
    "#replacing all variations by one name\n",
    "df.loc[df['place_name'].isin(starbucks), 'place_name'] = \"starbucks\""
   ]
  },
  {
   "cell_type": "code",
   "execution_count": 55,
   "metadata": {},
   "outputs": [
    {
     "data": {
      "text/plain": [
       "array(['starbucks'], dtype=object)"
      ]
     },
     "execution_count": 55,
     "metadata": {},
     "output_type": "execute_result"
    }
   ],
   "source": [
    "#checking result\n",
    "df.loc[df[\"place_name\"].str.contains(\"^starbuck\")]['place_name'].unique()"
   ]
  },
  {
   "cell_type": "markdown",
   "metadata": {},
   "source": [
    "I replaced all the variations by one name: \"Starbucks\".  \n",
    "I will do the same for big chain restaurants for more accurate results of analysis."
   ]
  },
  {
   "cell_type": "code",
   "execution_count": 56,
   "metadata": {},
   "outputs": [],
   "source": [
    "#replacing variations of the name by one name for each big chain establishment\n",
    "#subway\n",
    "subway = df.loc[df[\"place_name\"].str.contains(\"^subway\")]['place_name'].unique()\n",
    "df.loc[df['place_name'].isin(subway), 'place_name'] = \"subway\"\n",
    "#mcdonalds\n",
    "mcdonalds = df.loc[df[\"place_name\"].str.contains(\"^mcdonald\")]['place_name'].unique()\n",
    "df.loc[df['place_name'].isin(mcdonalds), 'place_name'] = \"mcdonalds\"\n",
    "#jack in the box\n",
    "jack_in = df.loc[df[\"place_name\"].str.contains(\"^jack in\")]['place_name'].unique()\n",
    "df.loc[df['place_name'].isin(jack_in), 'place_name'] = \"jack in the box\"\n",
    "#dominos pizza\n",
    "dominos = df.loc[df[\"place_name\"].str.contains(\"^dominos\")]['place_name'].unique()\n",
    "df.loc[df['place_name'].isin(dominos), 'place_name'] = \"dominos pizza\"\n",
    "#yoshinoya\n",
    "yoshinoya = df.loc[df[\"place_name\"].str.contains(\"^yoshinoya\")]['place_name'].unique()\n",
    "df.loc[df['place_name'].isin(yoshinoya), 'place_name'] = \"yoshinoya\"\n",
    "#carls jr\n",
    "carls_jr = df.loc[df[\"place_name\"].str.contains(\"^carls jr\")]['place_name'].unique()\n",
    "df.loc[df['place_name'].isin(carls_jr), 'place_name'] = \"carls jr\"\n",
    "#panda express\n",
    "panda_express = df.loc[df[\"place_name\"].str.contains(\"^panda expres\")]['place_name'].unique()\n",
    "df.loc[df['place_name'].isin(panda_express), 'place_name'] = \"panda express\"\n",
    "#chipotle mexican grill\n",
    "chipotle = df.loc[df[\"place_name\"].str.contains(\"^chipotle\")]['place_name'].unique()\n",
    "df.loc[df['place_name'].isin(chipotle), 'place_name'] = \"chipotle mexican grill\"\n",
    "#jamba juice\n",
    "jamba = df.loc[df[\"place_name\"].str.contains(\"^jamba\")]['place_name'].unique()\n",
    "df.loc[df['place_name'].isin(jamba), 'place_name'] = \"jamba juice\"\n",
    "#kentucky fried chicken\n",
    "kentucky = df.loc[df[\"place_name\"].str.contains(\"^kentuc\")]['place_name'].unique()\n",
    "df.loc[df['place_name'].isin(kentucky), 'place_name'] = \"KFC\"\n",
    "kfc = df.loc[df[\"place_name\"].str.contains(\"^kfc\")]['place_name'].unique()\n",
    "df.loc[df['place_name'].isin(kfc), 'place_name'] = \"KFC\"\n",
    "#papa johns pizza\n",
    "papa_johns = df.loc[df[\"place_name\"].str.contains(\"^papa john\")]['place_name'].unique()\n",
    "df.loc[df['place_name'].isin(papa_johns), 'place_name'] = \"papa johns pizza\"\n",
    "#little caesars\n",
    "little_caesars = df.loc[df[\"place_name\"].str.contains(\"^little caesar\")]['place_name'].unique()\n",
    "df.loc[df['place_name'].isin(little_caesars), 'place_name'] = \"little caesars\""
   ]
  },
  {
   "cell_type": "code",
   "execution_count": 57,
   "metadata": {},
   "outputs": [
    {
     "data": {
      "text/plain": [
       "subway                        152\n",
       "starbucks                     132\n",
       "mcdonalds                      85\n",
       "jack in the box                53\n",
       "the coffee bean & tea leaf     51\n",
       "burger king                    38\n",
       "el pollo loco                  36\n",
       "dominos pizza                  34\n",
       "KFC                            34\n",
       "taco bell                      30\n",
       "pizza hut                      30\n",
       "yoshinoya                      29\n",
       "carls jr                       29\n",
       "little caesars                 25\n",
       "panda express                  24\n",
       "chipotle mexican grill         22\n",
       "ralphs market                  21\n",
       "jamba juice                    20\n",
       "papa johns pizza               18\n",
       "waba grill                     14\n",
       "Name: place_name, dtype: int64"
      ]
     },
     "execution_count": 57,
     "metadata": {},
     "output_type": "execute_result"
    }
   ],
   "source": [
    "#checking result\n",
    "df.place_name.value_counts().head(20)"
   ]
  },
  {
   "cell_type": "markdown",
   "metadata": {},
   "source": [
    "Now top 20 chain restaurants look better.  \n",
    "I will do the same for 10 restaurants with only one place, cause one of the task is connected with establishments with one place and if there are not correct data will be not correct result."
   ]
  },
  {
   "cell_type": "code",
   "execution_count": 58,
   "metadata": {},
   "outputs": [
    {
     "data": {
      "text/plain": [
       "room at the bottom                   1\n",
       "crenshaw fatburger                   1\n",
       "the watermark at westwood village    1\n",
       "national baking co                   1\n",
       "yuchun                               1\n",
       "dennys inc                           1\n",
       "angel food donut                     1\n",
       "meze                                 1\n",
       "berkshire tavern                     1\n",
       "el rinconcito de mago                1\n",
       "ondal jip restaurant                 1\n",
       "pacific bakery and restaurant        1\n",
       "e.t. s cafe                          1\n",
       "oyster gourmet                       1\n",
       "pats                                 1\n",
       "piece o pizza and pasta              1\n",
       "bludsos bbq                          1\n",
       "perfect pita                         1\n",
       "sam sik e                            1\n",
       "fat tomatowhipped la                 1\n",
       "Name: place_name, dtype: int64"
      ]
     },
     "execution_count": 58,
     "metadata": {},
     "output_type": "execute_result"
    }
   ],
   "source": [
    "df.place_name.value_counts().tail(20)"
   ]
  },
  {
   "cell_type": "code",
   "execution_count": 59,
   "metadata": {},
   "outputs": [
    {
     "data": {
      "text/plain": [
       "array(['el palmar salvadoreno', 'el palmar salvadorian restaurant , inc',\n",
       "       'el palmar salvadorean restaurant inc.'], dtype=object)"
      ]
     },
     "execution_count": 59,
     "metadata": {},
     "output_type": "execute_result"
    }
   ],
   "source": [
    "df.loc[df[\"place_name\"].str.contains(\"^el palmar\")]['place_name'].unique()"
   ]
  },
  {
   "cell_type": "code",
   "execution_count": 60,
   "metadata": {},
   "outputs": [],
   "source": [
    "#el palmar salvadoreno\n",
    "el_palmar = df.loc[df[\"place_name\"].str.contains(\"^el palmar\")]['place_name'].unique()\n",
    "df.loc[df['place_name'].isin(el_palmar), 'place_name'] = \"el palmar salvadoreno\"\n",
    "#baja fresh\n",
    "baja_fresh = df.loc[df[\"place_name\"].str.contains(\"^baja fresh\")]['place_name'].unique()\n",
    "df.loc[df['place_name'].isin(baja_fresh), 'place_name'] = \"baja fresh\"\n",
    "#toms burger\n",
    "toms_burger = df.loc[df[\"place_name\"].str.contains(\"^toms burger\")]['place_name'].unique()\n",
    "df.loc[df['place_name'].isin(toms_burger), 'place_name'] = \"toms burgers\""
   ]
  },
  {
   "cell_type": "markdown",
   "metadata": {},
   "source": [
    "I found that restaurants with one place have mistakes in data also.  \n",
    "I can do conclusion that data is corrupted and some of the results will not be accurate."
   ]
  },
  {
   "cell_type": "code",
   "execution_count": 61,
   "metadata": {},
   "outputs": [
    {
     "name": "stdout",
     "output_type": "stream",
     "text": [
      "Number of unique establishments before preprocessing: 8672\n",
      "Number of unique establishments after removing: 7758\n"
     ]
    }
   ],
   "source": [
    "#calculating number of unique establishment\n",
    "print('Number of unique establishments before preprocessing:', df.object_name.nunique())\n",
    "print('Number of unique establishments after removing:', df.place_name.nunique())"
   ]
  },
  {
   "cell_type": "markdown",
   "metadata": {},
   "source": [
    "[Back to the Table of Contents](#contents)"
   ]
  },
  {
   "cell_type": "markdown",
   "metadata": {},
   "source": [
    "#### 3.2 Processing information about chain/not chain establishment <a class=\"anchor\" id=\"chapter7\"></a>"
   ]
  },
  {
   "cell_type": "markdown",
   "metadata": {},
   "source": [
    "On the previous step I found that some of the chain restaurants or restaurants with more than one place indicate as not chain in the 'chain' column.  \n",
    "After preprocessing part of the places names we have even more mistakes here:"
   ]
  },
  {
   "cell_type": "code",
   "execution_count": 62,
   "metadata": {},
   "outputs": [
    {
     "data": {
      "text/plain": [
       "True     3676\n",
       "False      71\n",
       "Name: chain, dtype: int64"
      ]
     },
     "execution_count": 62,
     "metadata": {},
     "output_type": "execute_result"
    }
   ],
   "source": [
    "#creating parameter with names of chain restaurants\n",
    "chain_est_3 = df.query('chain == True')['place_name']\n",
    "#checking if all chain restaurants are indicated as chain in the table\n",
    "df.query('place_name in @chain_est_3')['chain'].value_counts()"
   ]
  },
  {
   "cell_type": "markdown",
   "metadata": {},
   "source": [
    "We have 71 not correct values in column 'chain' where chain restaurants indicate as not chain.  \n",
    "Let's replace it with correct value:"
   ]
  },
  {
   "cell_type": "code",
   "execution_count": 63,
   "metadata": {},
   "outputs": [
    {
     "data": {
      "text/plain": [
       "True    3747\n",
       "Name: chain, dtype: int64"
      ]
     },
     "execution_count": 63,
     "metadata": {},
     "output_type": "execute_result"
    }
   ],
   "source": [
    "#replacing by correct value\n",
    "df.loc[df['place_name'].isin(chain_est_3), 'chain'] = True\n",
    "#checking result\n",
    "df.query('place_name in @chain_est_3')['chain'].value_counts()"
   ]
  },
  {
   "cell_type": "markdown",
   "metadata": {},
   "source": [
    "Values were replaced."
   ]
  },
  {
   "cell_type": "code",
   "execution_count": 64,
   "metadata": {},
   "outputs": [
    {
     "data": {
      "text/plain": [
       "True     2237\n",
       "False     260\n",
       "Name: chain, dtype: int64"
      ]
     },
     "execution_count": 64,
     "metadata": {},
     "output_type": "execute_result"
    }
   ],
   "source": [
    "#creating parameter with establishments with more than 1 place\n",
    "chain_est_4 = df.place_name.value_counts().reset_index()\n",
    "chain_est_4.columns = ['place_name', 'number']\n",
    "chain_est_4 = chain_est_4.query('number > 1')\n",
    "chain_est_4 = chain_est_4.place_name\n",
    "#checking if these restaurants are indicated as chain in the table\n",
    "df.query('place_name in @chain_est_4')['chain'].value_counts()"
   ]
  },
  {
   "cell_type": "markdown",
   "metadata": {},
   "source": [
    "We have 260 not correct values in column 'chain' where restaurants with more than one place indicate as not chain.  \n",
    "Let's replace it with correct value:"
   ]
  },
  {
   "cell_type": "code",
   "execution_count": 65,
   "metadata": {},
   "outputs": [
    {
     "data": {
      "text/plain": [
       "True    2497\n",
       "Name: chain, dtype: int64"
      ]
     },
     "execution_count": 65,
     "metadata": {},
     "output_type": "execute_result"
    }
   ],
   "source": [
    "#replacing by correct value\n",
    "df.loc[df['place_name'].isin(chain_est_4), 'chain'] = True\n",
    "#checking result\n",
    "df.query('place_name in @chain_est_4')['chain'].value_counts()"
   ]
  },
  {
   "cell_type": "markdown",
   "metadata": {},
   "source": [
    "Values were replaced."
   ]
  },
  {
   "cell_type": "markdown",
   "metadata": {},
   "source": [
    "[Back to the Table of Contents](#contents)"
   ]
  },
  {
   "cell_type": "markdown",
   "metadata": {},
   "source": [
    "#### 3.3 Processing establishment type <a class=\"anchor\" id=\"chapter8\"></a>"
   ]
  },
  {
   "cell_type": "markdown",
   "metadata": {},
   "source": [
    "After data preprocessing I need to check if each venues will have correct establishment type.  \n",
    "I will take top 15 big chains:"
   ]
  },
  {
   "cell_type": "code",
   "execution_count": 66,
   "metadata": {},
   "outputs": [
    {
     "data": {
      "text/plain": [
       "subway                        152\n",
       "starbucks                     132\n",
       "mcdonalds                      85\n",
       "jack in the box                53\n",
       "the coffee bean & tea leaf     51\n",
       "burger king                    38\n",
       "el pollo loco                  36\n",
       "dominos pizza                  34\n",
       "KFC                            34\n",
       "pizza hut                      30\n",
       "taco bell                      30\n",
       "carls jr                       29\n",
       "yoshinoya                      29\n",
       "little caesars                 25\n",
       "panda express                  24\n",
       "Name: place_name, dtype: int64"
      ]
     },
     "execution_count": 66,
     "metadata": {},
     "output_type": "execute_result"
    }
   ],
   "source": [
    "#selecting top 15 big chain\n",
    "df.place_name.value_counts().head(15)"
   ]
  },
  {
   "cell_type": "code",
   "execution_count": 67,
   "metadata": {},
   "outputs": [
    {
     "name": "stdout",
     "output_type": "stream",
     "text": [
      "subway\n",
      "Fast Food    152\n",
      "Name: object_type, dtype: int64 \n",
      "\n",
      "starbucks\n",
      "Cafe    132\n",
      "Name: object_type, dtype: int64 \n",
      "\n",
      "mcdonalds\n",
      "Fast Food     62\n",
      "Restaurant    23\n",
      "Name: object_type, dtype: int64 \n",
      "\n",
      "jack in the box\n",
      "Restaurant    53\n",
      "Name: object_type, dtype: int64 \n",
      "\n",
      "the coffee bean & tea leaf\n",
      "Cafe    51\n",
      "Name: object_type, dtype: int64 \n",
      "\n",
      "burger king\n",
      "Fast Food    38\n",
      "Name: object_type, dtype: int64 \n",
      "\n",
      "el pollo loco\n",
      "Restaurant    36\n",
      "Name: object_type, dtype: int64 \n",
      "\n",
      "dominos pizza\n",
      "Pizza         33\n",
      "Restaurant     1\n",
      "Name: object_type, dtype: int64 \n",
      "\n",
      "KFC\n",
      "Fast Food     32\n",
      "Restaurant     2\n",
      "Name: object_type, dtype: int64 \n",
      "\n",
      "pizza hut\n",
      "Pizza    30\n",
      "Name: object_type, dtype: int64 \n",
      "\n",
      "taco bell\n",
      "Fast Food    30\n",
      "Name: object_type, dtype: int64 \n",
      "\n",
      "carls jr\n",
      "Restaurant    29\n",
      "Name: object_type, dtype: int64 \n",
      "\n",
      "yoshinoya\n",
      "Restaurant    29\n",
      "Name: object_type, dtype: int64 \n",
      "\n",
      "little caesars\n",
      "Restaurant    21\n",
      "Pizza          4\n",
      "Name: object_type, dtype: int64 \n",
      "\n",
      "panda express\n",
      "Fast Food    24\n",
      "Name: object_type, dtype: int64 \n",
      "\n"
     ]
    }
   ],
   "source": [
    "#checking object type for each place\n",
    "top15 = df.place_name.value_counts().head(15).reset_index()\n",
    "top15.columns = ['name', 'number']\n",
    "top15 = top15.name\n",
    "for value in top15:\n",
    "    print(value)\n",
    "    print(df[df['place_name'] == value]['object_type'].value_counts(), '\\n')"
   ]
  },
  {
   "cell_type": "markdown",
   "metadata": {},
   "source": [
    "I found that some of the restaurants have two different object type.  \n",
    "I will replace it by correct value:"
   ]
  },
  {
   "cell_type": "code",
   "execution_count": 68,
   "metadata": {},
   "outputs": [],
   "source": [
    "#replacing by correct value\n",
    "df.loc[df['place_name'] == \"mcdonalds\", 'object_type'] = \"Fast Food\"\n",
    "df.loc[df['place_name'] == \"dominos pizza\", 'object_type'] = \"Pizza\"\n",
    "df.loc[df['place_name'] == \"KFC\", 'object_type'] = \"Fast Food\"\n",
    "df.loc[df['place_name'] == \"little caesars\", 'object_type'] = \"Restaurant\""
   ]
  },
  {
   "cell_type": "code",
   "execution_count": 69,
   "metadata": {},
   "outputs": [
    {
     "name": "stdout",
     "output_type": "stream",
     "text": [
      "Mcdonalds:\n",
      "Fast Food    85\n",
      "Name: object_type, dtype: int64\n"
     ]
    }
   ],
   "source": [
    "#checking result\n",
    "print('Mcdonalds:')\n",
    "print(df.query('place_name == \"mcdonalds\"')['object_type'].value_counts())"
   ]
  },
  {
   "cell_type": "markdown",
   "metadata": {},
   "source": [
    "For top 15 big chain restaurants object type were corrected."
   ]
  },
  {
   "cell_type": "markdown",
   "metadata": {},
   "source": [
    "[Back to the Table of Contents](#contents)"
   ]
  },
  {
   "cell_type": "markdown",
   "metadata": {},
   "source": [
    "#### 3.4 Processing addresses of the establishment  <a class=\"anchor\" id=\"chapter9\"></a>"
   ]
  },
  {
   "cell_type": "markdown",
   "metadata": {},
   "source": [
    "*Task: Put the data on street names from the address column in a separate column."
   ]
  },
  {
   "cell_type": "markdown",
   "metadata": {},
   "source": [
    "For the future analysis we need to retrieve street name from the address.  \n",
    "I will use usaddress library for that."
   ]
  },
  {
   "cell_type": "markdown",
   "metadata": {},
   "source": [
    "Let's create one small example street that we will test our library on:"
   ]
  },
  {
   "cell_type": "code",
   "execution_count": 70,
   "metadata": {},
   "outputs": [
    {
     "data": {
      "text/plain": [
       "'3708 n eagle rock blvd'"
      ]
     },
     "execution_count": 70,
     "metadata": {},
     "output_type": "execute_result"
    }
   ],
   "source": [
    "street_example=df.iloc[0]['address']\n",
    "street_example"
   ]
  },
  {
   "cell_type": "markdown",
   "metadata": {},
   "source": [
    "Use .parse() method and pass to it any unstructed address. The library will split it into components:"
   ]
  },
  {
   "cell_type": "code",
   "execution_count": 71,
   "metadata": {},
   "outputs": [
    {
     "data": {
      "text/plain": [
       "[('3708', 'AddressNumber'),\n",
       " ('n', 'StreetNamePreDirectional'),\n",
       " ('eagle', 'StreetName'),\n",
       " ('rock', 'StreetName'),\n",
       " ('blvd', 'StreetNamePostType')]"
      ]
     },
     "execution_count": 71,
     "metadata": {},
     "output_type": "execute_result"
    }
   ],
   "source": [
    "usaddress.parse(street_example)"
   ]
  },
  {
   "cell_type": "markdown",
   "metadata": {},
   "source": [
    "So now it's a list of tuples with the component and it's name. For example, \"StreetName\"-\"Rock\".  \n",
    "Let's turn it into dictionary - it will be easier to call needed component."
   ]
  },
  {
   "cell_type": "code",
   "execution_count": 72,
   "metadata": {},
   "outputs": [
    {
     "data": {
      "text/plain": [
       "[('3708', 'AddressNumber'),\n",
       " ('n', 'StreetNamePreDirectional'),\n",
       " ('eagle', 'StreetName'),\n",
       " ('rock', 'StreetName'),\n",
       " ('blvd', 'StreetNamePostType')]"
      ]
     },
     "execution_count": 72,
     "metadata": {},
     "output_type": "execute_result"
    }
   ],
   "source": [
    "raw_address=usaddress.parse(street_example)\n",
    "raw_address"
   ]
  },
  {
   "cell_type": "code",
   "execution_count": 73,
   "metadata": {},
   "outputs": [],
   "source": [
    "#create a new dictionary. Iterate over a list with components. So we just say: For each component in raw_address\n",
    "#save component's name as key (i[1]) and component itself as value of the dictionary (i[0])\n",
    "dict_address={}\n",
    "for i in raw_address:\n",
    "    dict_address.update({i[1]:i[0]})"
   ]
  },
  {
   "cell_type": "code",
   "execution_count": 74,
   "metadata": {},
   "outputs": [
    {
     "data": {
      "text/plain": [
       "{'AddressNumber': '3708',\n",
       " 'StreetNamePreDirectional': 'n',\n",
       " 'StreetName': 'rock',\n",
       " 'StreetNamePostType': 'blvd'}"
      ]
     },
     "execution_count": 74,
     "metadata": {},
     "output_type": "execute_result"
    }
   ],
   "source": [
    "dict_address"
   ]
  },
  {
   "cell_type": "markdown",
   "metadata": {},
   "source": [
    "Now we have a dictionary with our component of the street and we can deconstruct the street in any way we want.  \n",
    "For example, we want only street name and number."
   ]
  },
  {
   "cell_type": "code",
   "execution_count": 75,
   "metadata": {},
   "outputs": [
    {
     "data": {
      "text/plain": [
       "'rock,3708'"
      ]
     },
     "execution_count": 75,
     "metadata": {},
     "output_type": "execute_result"
    }
   ],
   "source": [
    "dict_address['StreetName']+','+dict_address['AddressNumber']"
   ]
  },
  {
   "cell_type": "markdown",
   "metadata": {},
   "source": [
    "Let's wrap a function around it to apply to all our rows:"
   ]
  },
  {
   "cell_type": "code",
   "execution_count": 76,
   "metadata": {},
   "outputs": [],
   "source": [
    "def cleaning_1(raw):\n",
    "    raw_address=usaddress.parse(raw)\n",
    "    dict_address={}\n",
    "    for i in raw_address:\n",
    "        dict_address.update({i[1]:i[0]})\n",
    "    clean_adress=dict_address['AddressNumber']+\",\"+str(dict_address['StreetName'])\n",
    "    return clean_adress"
   ]
  },
  {
   "cell_type": "markdown",
   "metadata": {},
   "source": [
    "Let's apply it to random rows and see how it works:"
   ]
  },
  {
   "cell_type": "code",
   "execution_count": 77,
   "metadata": {},
   "outputs": [
    {
     "data": {
      "text/plain": [
       "2979    1903,hyperion\n",
       "2992       1827,103rd\n",
       "852         380,world\n",
       "4709    9824,national\n",
       "689       6360,sunset\n",
       "Name: address, dtype: object"
      ]
     },
     "execution_count": 77,
     "metadata": {},
     "output_type": "execute_result"
    }
   ],
   "source": [
    "df.address.sample(5).apply(cleaning_1)"
   ]
  },
  {
   "cell_type": "markdown",
   "metadata": {},
   "source": [
    "It works. What if we try to apply it to all dataset?"
   ]
  },
  {
   "cell_type": "code",
   "execution_count": 78,
   "metadata": {},
   "outputs": [
    {
     "ename": "KeyError",
     "evalue": "'AddressNumber'",
     "output_type": "error",
     "traceback": [
      "\u001b[0;31m---------------------------------------------------------------------------\u001b[0m",
      "\u001b[0;31mKeyError\u001b[0m                                  Traceback (most recent call last)",
      "\u001b[0;32m<ipython-input-78-23b2a3fccffd>\u001b[0m in \u001b[0;36m<module>\u001b[0;34m\u001b[0m\n\u001b[0;32m----> 1\u001b[0;31m \u001b[0mdf\u001b[0m\u001b[0;34m[\u001b[0m\u001b[0;34m'clean_street1'\u001b[0m\u001b[0;34m]\u001b[0m\u001b[0;34m=\u001b[0m\u001b[0mdf\u001b[0m\u001b[0;34m.\u001b[0m\u001b[0maddress\u001b[0m\u001b[0;34m.\u001b[0m\u001b[0mapply\u001b[0m\u001b[0;34m(\u001b[0m\u001b[0mcleaning_1\u001b[0m\u001b[0;34m)\u001b[0m\u001b[0;34m\u001b[0m\u001b[0;34m\u001b[0m\u001b[0m\n\u001b[0m",
      "\u001b[0;32m/opt/conda/lib/python3.7/site-packages/pandas/core/series.py\u001b[0m in \u001b[0;36mapply\u001b[0;34m(self, func, convert_dtype, args, **kwds)\u001b[0m\n\u001b[1;32m   4040\u001b[0m             \u001b[0;32melse\u001b[0m\u001b[0;34m:\u001b[0m\u001b[0;34m\u001b[0m\u001b[0;34m\u001b[0m\u001b[0m\n\u001b[1;32m   4041\u001b[0m                 \u001b[0mvalues\u001b[0m \u001b[0;34m=\u001b[0m \u001b[0mself\u001b[0m\u001b[0;34m.\u001b[0m\u001b[0mastype\u001b[0m\u001b[0;34m(\u001b[0m\u001b[0mobject\u001b[0m\u001b[0;34m)\u001b[0m\u001b[0;34m.\u001b[0m\u001b[0mvalues\u001b[0m\u001b[0;34m\u001b[0m\u001b[0;34m\u001b[0m\u001b[0m\n\u001b[0;32m-> 4042\u001b[0;31m                 \u001b[0mmapped\u001b[0m \u001b[0;34m=\u001b[0m \u001b[0mlib\u001b[0m\u001b[0;34m.\u001b[0m\u001b[0mmap_infer\u001b[0m\u001b[0;34m(\u001b[0m\u001b[0mvalues\u001b[0m\u001b[0;34m,\u001b[0m \u001b[0mf\u001b[0m\u001b[0;34m,\u001b[0m \u001b[0mconvert\u001b[0m\u001b[0;34m=\u001b[0m\u001b[0mconvert_dtype\u001b[0m\u001b[0;34m)\u001b[0m\u001b[0;34m\u001b[0m\u001b[0;34m\u001b[0m\u001b[0m\n\u001b[0m\u001b[1;32m   4043\u001b[0m \u001b[0;34m\u001b[0m\u001b[0m\n\u001b[1;32m   4044\u001b[0m         \u001b[0;32mif\u001b[0m \u001b[0mlen\u001b[0m\u001b[0;34m(\u001b[0m\u001b[0mmapped\u001b[0m\u001b[0;34m)\u001b[0m \u001b[0;32mand\u001b[0m \u001b[0misinstance\u001b[0m\u001b[0;34m(\u001b[0m\u001b[0mmapped\u001b[0m\u001b[0;34m[\u001b[0m\u001b[0;36m0\u001b[0m\u001b[0;34m]\u001b[0m\u001b[0;34m,\u001b[0m \u001b[0mSeries\u001b[0m\u001b[0;34m)\u001b[0m\u001b[0;34m:\u001b[0m\u001b[0;34m\u001b[0m\u001b[0;34m\u001b[0m\u001b[0m\n",
      "\u001b[0;32mpandas/_libs/lib.pyx\u001b[0m in \u001b[0;36mpandas._libs.lib.map_infer\u001b[0;34m()\u001b[0m\n",
      "\u001b[0;32m<ipython-input-76-da7c55563970>\u001b[0m in \u001b[0;36mcleaning_1\u001b[0;34m(raw)\u001b[0m\n\u001b[1;32m      4\u001b[0m     \u001b[0;32mfor\u001b[0m \u001b[0mi\u001b[0m \u001b[0;32min\u001b[0m \u001b[0mraw_address\u001b[0m\u001b[0;34m:\u001b[0m\u001b[0;34m\u001b[0m\u001b[0;34m\u001b[0m\u001b[0m\n\u001b[1;32m      5\u001b[0m         \u001b[0mdict_address\u001b[0m\u001b[0;34m.\u001b[0m\u001b[0mupdate\u001b[0m\u001b[0;34m(\u001b[0m\u001b[0;34m{\u001b[0m\u001b[0mi\u001b[0m\u001b[0;34m[\u001b[0m\u001b[0;36m1\u001b[0m\u001b[0;34m]\u001b[0m\u001b[0;34m:\u001b[0m\u001b[0mi\u001b[0m\u001b[0;34m[\u001b[0m\u001b[0;36m0\u001b[0m\u001b[0;34m]\u001b[0m\u001b[0;34m}\u001b[0m\u001b[0;34m)\u001b[0m\u001b[0;34m\u001b[0m\u001b[0;34m\u001b[0m\u001b[0m\n\u001b[0;32m----> 6\u001b[0;31m     \u001b[0mclean_adress\u001b[0m\u001b[0;34m=\u001b[0m\u001b[0mdict_address\u001b[0m\u001b[0;34m[\u001b[0m\u001b[0;34m'AddressNumber'\u001b[0m\u001b[0;34m]\u001b[0m\u001b[0;34m+\u001b[0m\u001b[0;34m\",\"\u001b[0m\u001b[0;34m+\u001b[0m\u001b[0mstr\u001b[0m\u001b[0;34m(\u001b[0m\u001b[0mdict_address\u001b[0m\u001b[0;34m[\u001b[0m\u001b[0;34m'StreetName'\u001b[0m\u001b[0;34m]\u001b[0m\u001b[0;34m)\u001b[0m\u001b[0;34m\u001b[0m\u001b[0;34m\u001b[0m\u001b[0m\n\u001b[0m\u001b[1;32m      7\u001b[0m     \u001b[0;32mreturn\u001b[0m \u001b[0mclean_adress\u001b[0m\u001b[0;34m\u001b[0m\u001b[0;34m\u001b[0m\u001b[0m\n",
      "\u001b[0;31mKeyError\u001b[0m: 'AddressNumber'"
     ]
    }
   ],
   "source": [
    "df['clean_street1']=df.address.apply(cleaning_1)"
   ]
  },
  {
   "cell_type": "markdown",
   "metadata": {},
   "source": [
    "We got a problem. What does it mean? It means that in some of the dictionaries there is no AddressNumber (in some cases it will be an error with StreetName) Why? the library is not perfect, it tries it's best, so let's account for mistakes.  \n",
    "We will include a loop in our function that will check the addresses \"without street or number\":"
   ]
  },
  {
   "cell_type": "code",
   "execution_count": 79,
   "metadata": {},
   "outputs": [],
   "source": [
    "def cleaning_check(raw):\n",
    "    raw_address=usaddress.parse(raw)\n",
    "    dict_address={}\n",
    "    for i in raw_address:\n",
    "        dict_address.update({i[1]:i[0]})\n",
    "    #this line below checks for normal case with street and number    \n",
    "    if 'StreetName' in dict_address.keys() and 'AddressNumber' in dict_address.keys():\n",
    "        clean_adress=dict_address['AddressNumber']+\",\"+str(dict_address['StreetName'])\n",
    "        return clean_adress\n",
    "    else:\n",
    "        return 'no street or number'"
   ]
  },
  {
   "cell_type": "code",
   "execution_count": 80,
   "metadata": {},
   "outputs": [],
   "source": [
    "df['clean_street_check']=df.address.apply(cleaning_check)"
   ]
  },
  {
   "cell_type": "markdown",
   "metadata": {},
   "source": [
    "Let's check what streets caused problems:"
   ]
  },
  {
   "cell_type": "code",
   "execution_count": 81,
   "metadata": {},
   "outputs": [
    {
     "data": {
      "text/html": [
       "<div>\n",
       "<style scoped>\n",
       "    .dataframe tbody tr th:only-of-type {\n",
       "        vertical-align: middle;\n",
       "    }\n",
       "\n",
       "    .dataframe tbody tr th {\n",
       "        vertical-align: top;\n",
       "    }\n",
       "\n",
       "    .dataframe thead th {\n",
       "        text-align: right;\n",
       "    }\n",
       "</style>\n",
       "<table border=\"1\" class=\"dataframe\">\n",
       "  <thead>\n",
       "    <tr style=\"text-align: right;\">\n",
       "      <th></th>\n",
       "      <th>id</th>\n",
       "      <th>object_name</th>\n",
       "      <th>address</th>\n",
       "      <th>chain</th>\n",
       "      <th>object_type</th>\n",
       "      <th>number</th>\n",
       "      <th>place_name</th>\n",
       "      <th>clean_street_check</th>\n",
       "    </tr>\n",
       "  </thead>\n",
       "  <tbody>\n",
       "    <tr>\n",
       "      <td>1888</td>\n",
       "      <td>13674</td>\n",
       "      <td>magdaleno debbie</td>\n",
       "      <td>olvera st e17</td>\n",
       "      <td>False</td>\n",
       "      <td>Restaurant</td>\n",
       "      <td>15</td>\n",
       "      <td>magdaleno debbie</td>\n",
       "      <td>no street or number</td>\n",
       "    </tr>\n",
       "    <tr>\n",
       "      <td>3719</td>\n",
       "      <td>15505</td>\n",
       "      <td>las anitas</td>\n",
       "      <td>olvera st 26</td>\n",
       "      <td>False</td>\n",
       "      <td>Restaurant</td>\n",
       "      <td>38</td>\n",
       "      <td>las anitas</td>\n",
       "      <td>no street or number</td>\n",
       "    </tr>\n",
       "    <tr>\n",
       "      <td>7003</td>\n",
       "      <td>18789</td>\n",
       "      <td>d.k. donuts</td>\n",
       "      <td>1033 1/2 los angeles st</td>\n",
       "      <td>False</td>\n",
       "      <td>Fast Food</td>\n",
       "      <td>8</td>\n",
       "      <td>d.k. donuts</td>\n",
       "      <td>no street or number</td>\n",
       "    </tr>\n",
       "    <tr>\n",
       "      <td>7281</td>\n",
       "      <td>19067</td>\n",
       "      <td>cielito lindo</td>\n",
       "      <td>olvera st 23</td>\n",
       "      <td>False</td>\n",
       "      <td>Restaurant</td>\n",
       "      <td>2</td>\n",
       "      <td>cielito lindo</td>\n",
       "      <td>no street or number</td>\n",
       "    </tr>\n",
       "    <tr>\n",
       "      <td>7319</td>\n",
       "      <td>19105</td>\n",
       "      <td>juanita's cafe</td>\n",
       "      <td>olvera st 20</td>\n",
       "      <td>False</td>\n",
       "      <td>Restaurant</td>\n",
       "      <td>12</td>\n",
       "      <td>juanitas cafe</td>\n",
       "      <td>no street or number</td>\n",
       "    </tr>\n",
       "    <tr>\n",
       "      <td>7321</td>\n",
       "      <td>19107</td>\n",
       "      <td>kitty's snow cones</td>\n",
       "      <td>olvera st 2</td>\n",
       "      <td>False</td>\n",
       "      <td>Restaurant</td>\n",
       "      <td>11</td>\n",
       "      <td>kittys snow cones</td>\n",
       "      <td>no street or number</td>\n",
       "    </tr>\n",
       "    <tr>\n",
       "      <td>7327</td>\n",
       "      <td>19113</td>\n",
       "      <td>la noche buena</td>\n",
       "      <td>olvera st e8</td>\n",
       "      <td>False</td>\n",
       "      <td>Restaurant</td>\n",
       "      <td>1</td>\n",
       "      <td>la noche buena</td>\n",
       "      <td>no street or number</td>\n",
       "    </tr>\n",
       "    <tr>\n",
       "      <td>7438</td>\n",
       "      <td>19224</td>\n",
       "      <td>la golondrina</td>\n",
       "      <td>olvera st w17</td>\n",
       "      <td>False</td>\n",
       "      <td>Restaurant</td>\n",
       "      <td>204</td>\n",
       "      <td>la golondrina</td>\n",
       "      <td>no street or number</td>\n",
       "    </tr>\n",
       "    <tr>\n",
       "      <td>7741</td>\n",
       "      <td>19527</td>\n",
       "      <td>rodolfo's restaurant</td>\n",
       "      <td>olvera st 5</td>\n",
       "      <td>True</td>\n",
       "      <td>Restaurant</td>\n",
       "      <td>4</td>\n",
       "      <td>rodolfos restaurant</td>\n",
       "      <td>no street or number</td>\n",
       "    </tr>\n",
       "  </tbody>\n",
       "</table>\n",
       "</div>"
      ],
      "text/plain": [
       "         id           object_name                  address  chain object_type  \\\n",
       "1888  13674      magdaleno debbie            olvera st e17  False  Restaurant   \n",
       "3719  15505            las anitas             olvera st 26  False  Restaurant   \n",
       "7003  18789           d.k. donuts  1033 1/2 los angeles st  False   Fast Food   \n",
       "7281  19067         cielito lindo             olvera st 23  False  Restaurant   \n",
       "7319  19105        juanita's cafe             olvera st 20  False  Restaurant   \n",
       "7321  19107    kitty's snow cones              olvera st 2  False  Restaurant   \n",
       "7327  19113        la noche buena             olvera st e8  False  Restaurant   \n",
       "7438  19224         la golondrina            olvera st w17  False  Restaurant   \n",
       "7741  19527  rodolfo's restaurant              olvera st 5   True  Restaurant   \n",
       "\n",
       "      number           place_name   clean_street_check  \n",
       "1888      15     magdaleno debbie  no street or number  \n",
       "3719      38           las anitas  no street or number  \n",
       "7003       8          d.k. donuts  no street or number  \n",
       "7281       2        cielito lindo  no street or number  \n",
       "7319      12        juanitas cafe  no street or number  \n",
       "7321      11    kittys snow cones  no street or number  \n",
       "7327       1       la noche buena  no street or number  \n",
       "7438     204        la golondrina  no street or number  \n",
       "7741       4  rodolfos restaurant  no street or number  "
      ]
     },
     "execution_count": 81,
     "metadata": {},
     "output_type": "execute_result"
    }
   ],
   "source": [
    "df[df['clean_street_check']=='no street or number']"
   ]
  },
  {
   "cell_type": "markdown",
   "metadata": {},
   "source": [
    "It's two streets: olvera and 1033 1/2 los angeles st  \n",
    "Let's see how library handles them:"
   ]
  },
  {
   "cell_type": "code",
   "execution_count": 82,
   "metadata": {},
   "outputs": [
    {
     "data": {
      "text/plain": [
       "[('olvera', 'PlaceName'), ('st', 'StateName'), ('e17', 'ZipCode')]"
      ]
     },
     "execution_count": 82,
     "metadata": {},
     "output_type": "execute_result"
    }
   ],
   "source": [
    "usaddress.parse(df.iloc[1888]['address'])"
   ]
  },
  {
   "cell_type": "markdown",
   "metadata": {},
   "source": [
    "See, here the library treats Olvera as PlaceName, not street.  \n",
    "That's ok, it happens, we just need to account for these streets in our function:"
   ]
  },
  {
   "cell_type": "code",
   "execution_count": 83,
   "metadata": {},
   "outputs": [],
   "source": [
    "def cleaning_final(raw):\n",
    "    if raw.startswith('olvera'):\n",
    "        clean_adress='olvera'\n",
    "    elif raw.startswith('1033 1/2 los angeles st'):\n",
    "        clean_adress='1/2 los angeles'\n",
    "    else:\n",
    "        raw_address=usaddress.parse(raw)\n",
    "        dict_address={}\n",
    "        for i in raw_address:\n",
    "            dict_address.update({i[1]:i[0]})\n",
    "        clean_adress=dict_address['StreetName']\n",
    "    return clean_adress"
   ]
  },
  {
   "cell_type": "code",
   "execution_count": 84,
   "metadata": {},
   "outputs": [
    {
     "data": {
      "text/html": [
       "<div>\n",
       "<style scoped>\n",
       "    .dataframe tbody tr th:only-of-type {\n",
       "        vertical-align: middle;\n",
       "    }\n",
       "\n",
       "    .dataframe tbody tr th {\n",
       "        vertical-align: top;\n",
       "    }\n",
       "\n",
       "    .dataframe thead th {\n",
       "        text-align: right;\n",
       "    }\n",
       "</style>\n",
       "<table border=\"1\" class=\"dataframe\">\n",
       "  <thead>\n",
       "    <tr style=\"text-align: right;\">\n",
       "      <th></th>\n",
       "      <th>id</th>\n",
       "      <th>object_name</th>\n",
       "      <th>address</th>\n",
       "      <th>chain</th>\n",
       "      <th>object_type</th>\n",
       "      <th>number</th>\n",
       "      <th>place_name</th>\n",
       "      <th>clean_street_check</th>\n",
       "      <th>clean_street</th>\n",
       "    </tr>\n",
       "  </thead>\n",
       "  <tbody>\n",
       "    <tr>\n",
       "      <td>4552</td>\n",
       "      <td>16338</td>\n",
       "      <td>vinoteque on melrose</td>\n",
       "      <td>7469 melrose ave</td>\n",
       "      <td>False</td>\n",
       "      <td>Restaurant</td>\n",
       "      <td>92</td>\n",
       "      <td>vinoteque on melrose</td>\n",
       "      <td>7469,melrose</td>\n",
       "      <td>melrose</td>\n",
       "    </tr>\n",
       "    <tr>\n",
       "      <td>3755</td>\n",
       "      <td>15541</td>\n",
       "      <td>green house</td>\n",
       "      <td>6333 w 3rd st</td>\n",
       "      <td>True</td>\n",
       "      <td>Restaurant</td>\n",
       "      <td>5</td>\n",
       "      <td>green house</td>\n",
       "      <td>6333,3rd</td>\n",
       "      <td>3rd</td>\n",
       "    </tr>\n",
       "    <tr>\n",
       "      <td>2359</td>\n",
       "      <td>14145</td>\n",
       "      <td>shibumi</td>\n",
       "      <td>815 s hill st</td>\n",
       "      <td>False</td>\n",
       "      <td>Restaurant</td>\n",
       "      <td>13</td>\n",
       "      <td>shibumi</td>\n",
       "      <td>815,hill</td>\n",
       "      <td>hill</td>\n",
       "    </tr>\n",
       "    <tr>\n",
       "      <td>5032</td>\n",
       "      <td>16818</td>\n",
       "      <td>rodeo room</td>\n",
       "      <td>1306 s vermont ave</td>\n",
       "      <td>False</td>\n",
       "      <td>Restaurant</td>\n",
       "      <td>43</td>\n",
       "      <td>rodeo room</td>\n",
       "      <td>1306,vermont</td>\n",
       "      <td>vermont</td>\n",
       "    </tr>\n",
       "    <tr>\n",
       "      <td>7640</td>\n",
       "      <td>19426</td>\n",
       "      <td>lamonica's n.y. pizza</td>\n",
       "      <td>1066 gayley ave</td>\n",
       "      <td>False</td>\n",
       "      <td>Pizza</td>\n",
       "      <td>43</td>\n",
       "      <td>lamonicas n.y. pizza</td>\n",
       "      <td>1066,gayley</td>\n",
       "      <td>gayley</td>\n",
       "    </tr>\n",
       "    <tr>\n",
       "      <td>9477</td>\n",
       "      <td>21263</td>\n",
       "      <td>chinnchi kurin</td>\n",
       "      <td>350 e 1st st</td>\n",
       "      <td>False</td>\n",
       "      <td>Restaurant</td>\n",
       "      <td>101</td>\n",
       "      <td>chinnchi kurin</td>\n",
       "      <td>350,1st</td>\n",
       "      <td>1st</td>\n",
       "    </tr>\n",
       "    <tr>\n",
       "      <td>7546</td>\n",
       "      <td>19332</td>\n",
       "      <td>el valle oaxaqueno restauran</td>\n",
       "      <td>2318 w jefferson blvd</td>\n",
       "      <td>False</td>\n",
       "      <td>Restaurant</td>\n",
       "      <td>19</td>\n",
       "      <td>el valle oaxaqueno restauran</td>\n",
       "      <td>2318,jefferson</td>\n",
       "      <td>jefferson</td>\n",
       "    </tr>\n",
       "    <tr>\n",
       "      <td>3465</td>\n",
       "      <td>15251</td>\n",
       "      <td>happy tom's burger</td>\n",
       "      <td>1807 w sunset blvd</td>\n",
       "      <td>False</td>\n",
       "      <td>Fast Food</td>\n",
       "      <td>37</td>\n",
       "      <td>happy toms burger</td>\n",
       "      <td>1807,sunset</td>\n",
       "      <td>sunset</td>\n",
       "    </tr>\n",
       "    <tr>\n",
       "      <td>3738</td>\n",
       "      <td>15524</td>\n",
       "      <td>pink's</td>\n",
       "      <td>709 n la brea ave</td>\n",
       "      <td>True</td>\n",
       "      <td>Restaurant</td>\n",
       "      <td>138</td>\n",
       "      <td>pinks</td>\n",
       "      <td>709,brea</td>\n",
       "      <td>brea</td>\n",
       "    </tr>\n",
       "    <tr>\n",
       "      <td>5452</td>\n",
       "      <td>17238</td>\n",
       "      <td>sam's hofbrau</td>\n",
       "      <td>1751 e olympic blvd</td>\n",
       "      <td>False</td>\n",
       "      <td>Restaurant</td>\n",
       "      <td>73</td>\n",
       "      <td>sams hofbrau</td>\n",
       "      <td>1751,olympic</td>\n",
       "      <td>olympic</td>\n",
       "    </tr>\n",
       "  </tbody>\n",
       "</table>\n",
       "</div>"
      ],
      "text/plain": [
       "         id                   object_name                address  chain  \\\n",
       "4552  16338          vinoteque on melrose       7469 melrose ave  False   \n",
       "3755  15541                   green house          6333 w 3rd st   True   \n",
       "2359  14145                       shibumi          815 s hill st  False   \n",
       "5032  16818                    rodeo room     1306 s vermont ave  False   \n",
       "7640  19426         lamonica's n.y. pizza        1066 gayley ave  False   \n",
       "9477  21263                chinnchi kurin           350 e 1st st  False   \n",
       "7546  19332  el valle oaxaqueno restauran  2318 w jefferson blvd  False   \n",
       "3465  15251            happy tom's burger     1807 w sunset blvd  False   \n",
       "3738  15524                        pink's      709 n la brea ave   True   \n",
       "5452  17238                 sam's hofbrau    1751 e olympic blvd  False   \n",
       "\n",
       "     object_type  number                    place_name clean_street_check  \\\n",
       "4552  Restaurant      92          vinoteque on melrose       7469,melrose   \n",
       "3755  Restaurant       5                   green house           6333,3rd   \n",
       "2359  Restaurant      13                       shibumi           815,hill   \n",
       "5032  Restaurant      43                    rodeo room       1306,vermont   \n",
       "7640       Pizza      43          lamonicas n.y. pizza        1066,gayley   \n",
       "9477  Restaurant     101                chinnchi kurin            350,1st   \n",
       "7546  Restaurant      19  el valle oaxaqueno restauran     2318,jefferson   \n",
       "3465   Fast Food      37             happy toms burger        1807,sunset   \n",
       "3738  Restaurant     138                         pinks           709,brea   \n",
       "5452  Restaurant      73                  sams hofbrau       1751,olympic   \n",
       "\n",
       "     clean_street  \n",
       "4552      melrose  \n",
       "3755          3rd  \n",
       "2359         hill  \n",
       "5032      vermont  \n",
       "7640       gayley  \n",
       "9477          1st  \n",
       "7546    jefferson  \n",
       "3465       sunset  \n",
       "3738         brea  \n",
       "5452      olympic  "
      ]
     },
     "execution_count": 84,
     "metadata": {},
     "output_type": "execute_result"
    }
   ],
   "source": [
    "df['clean_street']=df.address.apply(cleaning_final)\n",
    "df.sample(10)"
   ]
  },
  {
   "cell_type": "code",
   "execution_count": 85,
   "metadata": {},
   "outputs": [
    {
     "data": {
      "text/html": [
       "<div>\n",
       "<style scoped>\n",
       "    .dataframe tbody tr th:only-of-type {\n",
       "        vertical-align: middle;\n",
       "    }\n",
       "\n",
       "    .dataframe tbody tr th {\n",
       "        vertical-align: top;\n",
       "    }\n",
       "\n",
       "    .dataframe thead th {\n",
       "        text-align: right;\n",
       "    }\n",
       "</style>\n",
       "<table border=\"1\" class=\"dataframe\">\n",
       "  <thead>\n",
       "    <tr style=\"text-align: right;\">\n",
       "      <th></th>\n",
       "      <th>id</th>\n",
       "      <th>object_name</th>\n",
       "      <th>address</th>\n",
       "      <th>chain</th>\n",
       "      <th>object_type</th>\n",
       "      <th>number</th>\n",
       "      <th>place_name</th>\n",
       "      <th>clean_street</th>\n",
       "    </tr>\n",
       "  </thead>\n",
       "  <tbody>\n",
       "    <tr>\n",
       "      <td>1960</td>\n",
       "      <td>13746</td>\n",
       "      <td>kavkaz, cafe restaurant</td>\n",
       "      <td>5341 santa monica blvd</td>\n",
       "      <td>True</td>\n",
       "      <td>Restaurant</td>\n",
       "      <td>8</td>\n",
       "      <td>kavkaz, cafe restaurant</td>\n",
       "      <td>monica</td>\n",
       "    </tr>\n",
       "  </tbody>\n",
       "</table>\n",
       "</div>"
      ],
      "text/plain": [
       "         id              object_name                 address  chain  \\\n",
       "1960  13746  kavkaz, cafe restaurant  5341 santa monica blvd   True   \n",
       "\n",
       "     object_type  number               place_name clean_street  \n",
       "1960  Restaurant       8  kavkaz, cafe restaurant       monica  "
      ]
     },
     "execution_count": 85,
     "metadata": {},
     "output_type": "execute_result"
    }
   ],
   "source": [
    "#deleting helper column\n",
    "df = df.drop(columns=['clean_street_check'])\n",
    "#checking result\n",
    "df.sample()"
   ]
  },
  {
   "cell_type": "code",
   "execution_count": 86,
   "metadata": {},
   "outputs": [
    {
     "data": {
      "text/plain": [
       "sunset       405\n",
       "wilshire     398\n",
       "pico         371\n",
       "western      369\n",
       "figueroa     334\n",
       "olympic      309\n",
       "vermont      288\n",
       "monica       264\n",
       "3rd          263\n",
       "hollywood    254\n",
       "Name: clean_street, dtype: int64"
      ]
     },
     "execution_count": 86,
     "metadata": {},
     "output_type": "execute_result"
    }
   ],
   "source": [
    "#checking result\n",
    "df['clean_street'].value_counts().head(10)"
   ]
  },
  {
   "cell_type": "markdown",
   "metadata": {},
   "source": [
    "Column 'clean_street_final' with clean addresses was created."
   ]
  },
  {
   "cell_type": "markdown",
   "metadata": {},
   "source": [
    "[Back to the Table of Contents](#contents)"
   ]
  },
  {
   "cell_type": "markdown",
   "metadata": {},
   "source": [
    "#### Conclusion <a class=\"anchor\" id=\"chapter10\"></a>"
   ]
  },
  {
   "cell_type": "markdown",
   "metadata": {},
   "source": [
    "Data was preprocessed.   \n",
    "- values in columns 'object_name' and 'adress' were changed to lower case;\n",
    "- missing values in column 'chain' were filled;\n",
    "- establishments names were corrected and saved in column 'place_name';\n",
    "- values in column chain were corrected; \n",
    "- names of the street were retrieved from addresses and saved in the new column 'clean_street'."
   ]
  },
  {
   "cell_type": "markdown",
   "metadata": {},
   "source": [
    "[Back to the Table of Contents](#contents)"
   ]
  },
  {
   "cell_type": "markdown",
   "metadata": {},
   "source": [
    "### 4. Data analysis <a class=\"anchor\" id=\"chapter11\"></a>"
   ]
  },
  {
   "cell_type": "markdown",
   "metadata": {},
   "source": [
    "#### 4.1 Investigate the proportions of the various types of establishments. Plot a graph.  <a class=\"anchor\" id=\"chapter12\"></a>"
   ]
  },
  {
   "cell_type": "code",
   "execution_count": 87,
   "metadata": {},
   "outputs": [
    {
     "name": "stdout",
     "output_type": "stream",
     "text": [
      "Number of establishment: 9651\n",
      "Number of  unique establishment: 7758\n"
     ]
    }
   ],
   "source": [
    "#general information:\n",
    "print('Number of establishment:', len(df))\n",
    "print('Number of  unique establishment:', len(df.place_name.unique()))"
   ]
  },
  {
   "cell_type": "code",
   "execution_count": 88,
   "metadata": {},
   "outputs": [
    {
     "data": {
      "text/plain": [
       "Restaurant    7233\n",
       "Fast Food     1091\n",
       "Cafe           435\n",
       "Pizza          317\n",
       "Bar            292\n",
       "Bakery         283\n",
       "Name: object_type, dtype: int64"
      ]
     },
     "execution_count": 88,
     "metadata": {},
     "output_type": "execute_result"
    }
   ],
   "source": [
    "#creating parameter\n",
    "data_types = df.object_type.value_counts()\n",
    "data_types"
   ]
  },
  {
   "cell_type": "code",
   "execution_count": 89,
   "metadata": {},
   "outputs": [
    {
     "data": {
      "image/png": "[encoded data removed]",
      "text/plain": [
       "<Figure size 1008x576 with 1 Axes>"
      ]
     },
     "metadata": {},
     "output_type": "display_data"
    }
   ],
   "source": [
    "#building graph (pie chart)\n",
    "pie, ax = plt.subplots(figsize=[14,8])\n",
    "labels = data_types.keys()\n",
    "colors = ['#ff7675', '#0984e3', '#fdcb6e', '#00b894', '#fd79a8', '#a29bfe']\n",
    "plt.pie(x=data_types, autopct=\"%.1f%%\",explode=[0.1]*6, labels=labels, pctdistance=0.5, \n",
    "        shadow=True, colors=colors, startangle=180)\n",
    "plt.title('Share of the various types of establishments', fontsize=16)\n",
    "plt.rcParams['font.size'] = 12\n",
    "plt.savefig('task1.png')\n",
    "plt.show()"
   ]
  },
  {
   "cell_type": "markdown",
   "metadata": {},
   "source": [
    "Restaurants are most popular - 74.9%.  \n",
    "Fast food is also popular -11.3%.  \n",
    "Share of the other establishment types are less 5%."
   ]
  },
  {
   "cell_type": "markdown",
   "metadata": {},
   "source": [
    "[Back to the Table of Contents](#contents)"
   ]
  },
  {
   "cell_type": "markdown",
   "metadata": {},
   "source": [
    "#### 4.2 Investigate the proportions of chain and nonchain establishments. Plot a graph. <a class=\"anchor\" id=\"chapter13\"></a>"
   ]
  },
  {
   "cell_type": "code",
   "execution_count": 90,
   "metadata": {},
   "outputs": [
    {
     "data": {
      "text/plain": [
       "False    5644\n",
       "True     4007\n",
       "Name: chain, dtype: int64"
      ]
     },
     "execution_count": 90,
     "metadata": {},
     "output_type": "execute_result"
    }
   ],
   "source": [
    "#creating parameter\n",
    "data_chain = df.chain.value_counts()\n",
    "data_chain"
   ]
  },
  {
   "cell_type": "code",
   "execution_count": 91,
   "metadata": {},
   "outputs": [
    {
     "data": {
      "image/png": "[encoded data removed]",
      "text/plain": [
       "<Figure size 1008x576 with 1 Axes>"
      ]
     },
     "metadata": {},
     "output_type": "display_data"
    }
   ],
   "source": [
    "#building graph (pie chart)\n",
    "pie, ax = plt.subplots(figsize=[14,8])\n",
    "labels = ['Non-chain', 'Chain']\n",
    "colors = ['#ff7675', '#0984e3']\n",
    "plt.pie(x=data_chain, autopct=\"%.1f%%\",explode=[0.1]*2, labels=labels, pctdistance=0.5, \n",
    "        shadow=True, colors=colors)\n",
    "plt.title('Share of the chain and non-chain establishments', fontsize=16)\n",
    "plt.savefig('task2.png')\n",
    "plt.show()"
   ]
  },
  {
   "cell_type": "markdown",
   "metadata": {},
   "source": [
    "Chains keep 41.5% of the market, while independent establishments have more - 58.5%."
   ]
  },
  {
   "cell_type": "code",
   "execution_count": 92,
   "metadata": {},
   "outputs": [
    {
     "data": {
      "image/png": "[encoded data removed]",
      "text/plain": [
       "<Figure size 1008x576 with 1 Axes>"
      ]
     },
     "metadata": {
      "needs_background": "light"
     },
     "output_type": "display_data"
    }
   ],
   "source": [
    "#making a graph\n",
    "plt.figure(figsize=(14,8)) \n",
    "sns.set_palette(\"Set2\")\n",
    "sns.countplot(x='object_type', hue='chain', data=df)\n",
    "plt.savefig('task3_1.png')\n",
    "plt.xlabel('Various type')\n",
    "plt.ylabel('Amount of establishments')\n",
    "plt.legend(['Non-chain', 'Chain'])\n",
    "plt.title('Amount of chain/non-chain establishments by the various types', fontsize=16)\n",
    "plt.show()"
   ]
  },
  {
   "cell_type": "markdown",
   "metadata": {},
   "source": [
    "In general in LA:  \n",
    "We have more non-chain restaurants than chain.  \n",
    "Fast Food have more chain places.  \n",
    "Bakeries are only chains in this city.  \n",
    "More chain cafe, but less bars, and pizza type have almost the same amount of the chain/non-chain places."
   ]
  },
  {
   "cell_type": "markdown",
   "metadata": {},
   "source": [
    "[Back to the Table of Contents](#contents)"
   ]
  },
  {
   "cell_type": "markdown",
   "metadata": {},
   "source": [
    "#### 4.3 Which type of establishment is typically a chain? <a class=\"anchor\" id=\"chapter14\"></a>"
   ]
  },
  {
   "cell_type": "code",
   "execution_count": 93,
   "metadata": {},
   "outputs": [
    {
     "data": {
      "text/plain": [
       "Restaurant    2497\n",
       "Fast Food      688\n",
       "Cafe           283\n",
       "Bakery         283\n",
       "Pizza          173\n",
       "Bar             83\n",
       "Name: object_type, dtype: int64"
      ]
     },
     "execution_count": 93,
     "metadata": {},
     "output_type": "execute_result"
    }
   ],
   "source": [
    "#creating parameter\n",
    "data_chain_type = df.query('chain == True')['object_type'].value_counts()\n",
    "data_chain_type"
   ]
  },
  {
   "cell_type": "code",
   "execution_count": 94,
   "metadata": {
    "scrolled": false
   },
   "outputs": [
    {
     "data": {
      "image/png": "[encoded data removed]",
      "text/plain": [
       "<Figure size 1008x576 with 1 Axes>"
      ]
     },
     "metadata": {},
     "output_type": "display_data"
    }
   ],
   "source": [
    "#building a graph (pie chart)\n",
    "pie, ax = plt.subplots(figsize=[14,8])\n",
    "labels = data_chain_type.keys()\n",
    "colors = ['#fdcb6e', '#0984e3', '#fd79a8', '#00b894', '#a29bfe', '#ff7675']\n",
    "plt.pie(x=data_chain_type, autopct=\"%.1f%%\",explode=[0.1]*6, labels=labels, pctdistance=0.5, \n",
    "        shadow=True, colors=colors, startangle=180)\n",
    "plt.title('Share of the various types of the chain establishments', fontsize=16)\n",
    "plt.savefig('task3.png')\n",
    "plt.show()"
   ]
  },
  {
   "cell_type": "markdown",
   "metadata": {},
   "source": [
    "Restaurants are still most popular - 74.9%, but its share has been reduced comparing to the whole data.  \n",
    "Fast food still on the second place - 11.3%.  \n",
    "Bars have smallest share of chain - 2.1%.  \n",
    "\n",
    "Let's compare the number of the chain' establishments with the total number of the establishments for each type:"
   ]
  },
  {
   "cell_type": "code",
   "execution_count": 95,
   "metadata": {},
   "outputs": [
    {
     "data": {
      "text/html": [
       "<style  type=\"text/css\" >\n",
       "</style><table id=\"T_e3c55f3e_1ba1_11eb_bc93_02420a392981\" ><thead>    <tr>        <th class=\"col_heading level0 col0\" >object_type</th>        <th class=\"col_heading level0 col1\" >n_chain</th>        <th class=\"col_heading level0 col2\" >n_chain_total</th>        <th class=\"col_heading level0 col3\" >share</th>    </tr></thead><tbody>\n",
       "                <tr>\n",
       "                                <td id=\"T_e3c55f3e_1ba1_11eb_bc93_02420a392981row0_col0\" class=\"data row0 col0\" >Bakery</td>\n",
       "                        <td id=\"T_e3c55f3e_1ba1_11eb_bc93_02420a392981row0_col1\" class=\"data row0 col1\" >283</td>\n",
       "                        <td id=\"T_e3c55f3e_1ba1_11eb_bc93_02420a392981row0_col2\" class=\"data row0 col2\" >283</td>\n",
       "                        <td id=\"T_e3c55f3e_1ba1_11eb_bc93_02420a392981row0_col3\" class=\"data row0 col3\" >100.00%</td>\n",
       "            </tr>\n",
       "            <tr>\n",
       "                                <td id=\"T_e3c55f3e_1ba1_11eb_bc93_02420a392981row1_col0\" class=\"data row1 col0\" >Cafe</td>\n",
       "                        <td id=\"T_e3c55f3e_1ba1_11eb_bc93_02420a392981row1_col1\" class=\"data row1 col1\" >283</td>\n",
       "                        <td id=\"T_e3c55f3e_1ba1_11eb_bc93_02420a392981row1_col2\" class=\"data row1 col2\" >435</td>\n",
       "                        <td id=\"T_e3c55f3e_1ba1_11eb_bc93_02420a392981row1_col3\" class=\"data row1 col3\" >65.06%</td>\n",
       "            </tr>\n",
       "            <tr>\n",
       "                                <td id=\"T_e3c55f3e_1ba1_11eb_bc93_02420a392981row2_col0\" class=\"data row2 col0\" >Fast Food</td>\n",
       "                        <td id=\"T_e3c55f3e_1ba1_11eb_bc93_02420a392981row2_col1\" class=\"data row2 col1\" >688</td>\n",
       "                        <td id=\"T_e3c55f3e_1ba1_11eb_bc93_02420a392981row2_col2\" class=\"data row2 col2\" >1091</td>\n",
       "                        <td id=\"T_e3c55f3e_1ba1_11eb_bc93_02420a392981row2_col3\" class=\"data row2 col3\" >63.06%</td>\n",
       "            </tr>\n",
       "            <tr>\n",
       "                                <td id=\"T_e3c55f3e_1ba1_11eb_bc93_02420a392981row3_col0\" class=\"data row3 col0\" >Pizza</td>\n",
       "                        <td id=\"T_e3c55f3e_1ba1_11eb_bc93_02420a392981row3_col1\" class=\"data row3 col1\" >173</td>\n",
       "                        <td id=\"T_e3c55f3e_1ba1_11eb_bc93_02420a392981row3_col2\" class=\"data row3 col2\" >317</td>\n",
       "                        <td id=\"T_e3c55f3e_1ba1_11eb_bc93_02420a392981row3_col3\" class=\"data row3 col3\" >54.57%</td>\n",
       "            </tr>\n",
       "            <tr>\n",
       "                                <td id=\"T_e3c55f3e_1ba1_11eb_bc93_02420a392981row4_col0\" class=\"data row4 col0\" >Restaurant</td>\n",
       "                        <td id=\"T_e3c55f3e_1ba1_11eb_bc93_02420a392981row4_col1\" class=\"data row4 col1\" >2497</td>\n",
       "                        <td id=\"T_e3c55f3e_1ba1_11eb_bc93_02420a392981row4_col2\" class=\"data row4 col2\" >7233</td>\n",
       "                        <td id=\"T_e3c55f3e_1ba1_11eb_bc93_02420a392981row4_col3\" class=\"data row4 col3\" >34.52%</td>\n",
       "            </tr>\n",
       "            <tr>\n",
       "                                <td id=\"T_e3c55f3e_1ba1_11eb_bc93_02420a392981row5_col0\" class=\"data row5 col0\" >Bar</td>\n",
       "                        <td id=\"T_e3c55f3e_1ba1_11eb_bc93_02420a392981row5_col1\" class=\"data row5 col1\" >83</td>\n",
       "                        <td id=\"T_e3c55f3e_1ba1_11eb_bc93_02420a392981row5_col2\" class=\"data row5 col2\" >292</td>\n",
       "                        <td id=\"T_e3c55f3e_1ba1_11eb_bc93_02420a392981row5_col3\" class=\"data row5 col3\" >28.42%</td>\n",
       "            </tr>\n",
       "    </tbody></table>"
      ],
      "text/plain": [
       "<pandas.io.formats.style.Styler at 0x7f0644e45d50>"
      ]
     },
     "execution_count": 95,
     "metadata": {},
     "output_type": "execute_result"
    }
   ],
   "source": [
    "#finding the number of chain establishments for each type\n",
    "n_chain = df.query('chain == True').pivot_table(index='object_type', values='chain', aggfunc='count').reset_index()\n",
    "n_chain.columns = ['object_type', 'n_chain']\n",
    "#finding the total number of establishments for each type\n",
    "n_chain_total = df.pivot_table(index='object_type', values='chain', aggfunc='count').reset_index()\n",
    "n_chain_total.columns = ['object_type', 'n_chain_total']\n",
    "#merging the tables\n",
    "chain_share = pd.merge(n_chain, n_chain_total, how='inner', on='object_type')\n",
    "#calculating share\n",
    "chain_share['share'] = chain_share['n_chain']/chain_share['n_chain_total']*100\n",
    "chain_share.sort_values('share', ascending=False).style.format({'share': \"{:.2f}%\"}).hide_index()"
   ]
  },
  {
   "cell_type": "markdown",
   "metadata": {},
   "source": [
    "Table shows:\n",
    "- all LA bakeries are chains;\n",
    "- 65% of cafe are chains;\n",
    "- 63% of fast foods are chains too;\n",
    "- 54.6% of pizza places are chain;\n",
    "- while only third part of bars and restaurants work as a part of the chain.\n",
    "\n",
    "So even if the restaurants are still the majority of all the establishments, it makes no sense for them to be in the chain. My guess is that people prefer to have choice and different ambiance when they visit restaurant and bars.  "
   ]
  },
  {
   "cell_type": "markdown",
   "metadata": {},
   "source": [
    "[Back to the Table of Contents](#contents)"
   ]
  },
  {
   "cell_type": "markdown",
   "metadata": {},
   "source": [
    "#### 4.4 What characterizes chains: many establishments with a small number of seats or a few establishments with a lot of seats? <a class=\"anchor\" id=\"chapter15\"></a>"
   ]
  },
  {
   "cell_type": "code",
   "execution_count": 96,
   "metadata": {},
   "outputs": [],
   "source": [
    "#selecting data by chain and non chain establishments\n",
    "data_chain = df.query('chain==True').copy()\n",
    "data_non_chain = df.query('chain==False').copy()"
   ]
  },
  {
   "cell_type": "code",
   "execution_count": 97,
   "metadata": {},
   "outputs": [
    {
     "name": "stdout",
     "output_type": "stream",
     "text": [
      "count    4007.000000\n",
      "mean       39.665835\n",
      "std        43.637267\n",
      "min         1.000000\n",
      "25%        13.000000\n",
      "50%        25.000000\n",
      "75%        44.000000\n",
      "max       229.000000\n",
      "Name: number, dtype: float64\n"
     ]
    },
    {
     "data": {
      "image/png": "[encoded data removed]",
      "text/plain": [
       "<Figure size 864x432 with 1 Axes>"
      ]
     },
     "metadata": {
      "needs_background": "light"
     },
     "output_type": "display_data"
    }
   ],
   "source": [
    "#making a graph\n",
    "print(data_chain.number.describe())\n",
    "plt.figure(figsize=(12,6)) \n",
    "data_chain.number.hist()\n",
    "plt.savefig('task4.png')\n",
    "plt.xlabel('Number of seats')\n",
    "plt.ylabel('Frequency')\n",
    "plt.title('Distribution of the number of seats for chain establishments', fontsize=16)\n",
    "plt.show()"
   ]
  },
  {
   "cell_type": "markdown",
   "metadata": {},
   "source": [
    "Looking at the general distribution of the chain establishment we see that most of the places have less than 50 seats.  \n",
    "Number of seats range from 1 to 229 and have huge spread - 43 places.  \n",
    "Median is 25  \n",
    "Mean is 39.6  \n",
    "Let's check the distribution through different object types:"
   ]
  },
  {
   "cell_type": "code",
   "execution_count": 98,
   "metadata": {},
   "outputs": [
    {
     "data": {
      "image/png": "[encoded data removed]",
      "text/plain": [
       "<Figure size 1120x800 with 1 Axes>"
      ]
     },
     "metadata": {
      "needs_background": "light"
     },
     "output_type": "display_data"
    }
   ],
   "source": [
    "#making a graph\n",
    "fig, ax = plt.subplots(figsize=(14,10), dpi= 80)    \n",
    "sns.stripplot(x=\"object_type\", y=\"number\", data=data_chain) \n",
    "plt.savefig('task4_1.png')\n",
    "plt.xlabel('Establishment type')\n",
    "plt.ylabel('Number of seats')\n",
    "plt.title('Distribution of the number of seats for chain establishments', fontsize=16)\n",
    "plt.show()"
   ]
  },
  {
   "cell_type": "markdown",
   "metadata": {},
   "source": [
    "Majority of the places have less than 50 seats, but there are no places with 50-60 seats.  \n",
    "I suppose there can be a difference in the tax rate or licence for the establishments.\n",
    "\n",
    "- bakeries, cafes and bars mostly have less than 50 seats;\n",
    "- fast food and restaurant type have more places with a lot of seats;\n",
    "- we have more restaurants with big number of seats than other place types."
   ]
  },
  {
   "cell_type": "markdown",
   "metadata": {},
   "source": [
    "Let's take a closer look on cafe (cause we want to open a small robot-run cafe):"
   ]
  },
  {
   "cell_type": "code",
   "execution_count": 99,
   "metadata": {},
   "outputs": [
    {
     "data": {
      "text/plain": [
       "count    435.00000\n",
       "mean      25.00000\n",
       "std       21.32187\n",
       "min        1.00000\n",
       "25%       11.00000\n",
       "50%       21.00000\n",
       "75%       34.00000\n",
       "max      143.00000\n",
       "Name: number, dtype: float64"
      ]
     },
     "execution_count": 99,
     "metadata": {},
     "output_type": "execute_result"
    }
   ],
   "source": [
    "#selecting cafe\n",
    "cafe = df.query('object_type == \"Cafe\"')\n",
    "cafe.number.describe()"
   ]
  },
  {
   "cell_type": "markdown",
   "metadata": {},
   "source": [
    "- number of seats range from 1 to 143 places;\n",
    "- 75% of the places have less than 34 seats;\n",
    "- median is 21;\n",
    "- mean is 25.  \n",
    "Let's check the distribution for chain and non-chain cafe:"
   ]
  },
  {
   "cell_type": "code",
   "execution_count": 100,
   "metadata": {},
   "outputs": [
    {
     "data": {
      "image/png": "[encoded data removed]",
      "text/plain": [
       "<Figure size 1120x800 with 1 Axes>"
      ]
     },
     "metadata": {
      "needs_background": "light"
     },
     "output_type": "display_data"
    }
   ],
   "source": [
    "#let's check the distribution of seats for chain / not chain cafes\n",
    "fig, ax = plt.subplots(figsize=(14,10), dpi= 80)    \n",
    "sns.violinplot(x=\"chain\", y=\"number\", data=cafe, scale='width', inner='quartile') \n",
    "plt.savefig('task4_2.png')\n",
    "plt.xlabel('Non-chain/Chain')\n",
    "plt.ylabel('Number of seats')\n",
    "plt.title('Distribution of the number of seats for cafe', fontsize=16)\n",
    "plt.show()"
   ]
  },
  {
   "cell_type": "markdown",
   "metadata": {},
   "source": [
    "Graph shows that:\n",
    "- most of the non-chain cafe have around 10-30 places, chain cafe - 10-35 places;\n",
    "- average number of seats for chain cafe is a bit higher;\n",
    "- we have some big cafe for both types."
   ]
  },
  {
   "cell_type": "markdown",
   "metadata": {},
   "source": [
    "[Back to the Table of Contents](#contents)"
   ]
  },
  {
   "cell_type": "markdown",
   "metadata": {},
   "source": [
    "#### 4.5 Determine the average number of seats for each type of restaurant. On average, which type of restaurant has the greatest number of seats? Plot graphs.  <a class=\"anchor\" id=\"chapter16\"></a>"
   ]
  },
  {
   "cell_type": "code",
   "execution_count": 101,
   "metadata": {},
   "outputs": [
    {
     "data": {
      "text/html": [
       "<style  type=\"text/css\" >\n",
       "</style><table id=\"T_e5f16578_1ba1_11eb_bc93_02420a392981\" ><thead>    <tr>        <th class=\"blank level0\" ></th>        <th class=\"col_heading level0 col0\" >n_seats</th>    </tr>    <tr>        <th class=\"index_name level0\" >object_type</th>        <th class=\"blank\" ></th>    </tr></thead><tbody>\n",
       "                <tr>\n",
       "                        <th id=\"T_e5f16578_1ba1_11eb_bc93_02420a392981level0_row0\" class=\"row_heading level0 row0\" >Restaurant</th>\n",
       "                        <td id=\"T_e5f16578_1ba1_11eb_bc93_02420a392981row0_col0\" class=\"data row0 col0\" >29.00</td>\n",
       "            </tr>\n",
       "            <tr>\n",
       "                        <th id=\"T_e5f16578_1ba1_11eb_bc93_02420a392981level0_row1\" class=\"row_heading level0 row1\" >Bar</th>\n",
       "                        <td id=\"T_e5f16578_1ba1_11eb_bc93_02420a392981row1_col0\" class=\"data row1 col0\" >28.50</td>\n",
       "            </tr>\n",
       "            <tr>\n",
       "                        <th id=\"T_e5f16578_1ba1_11eb_bc93_02420a392981level0_row2\" class=\"row_heading level0 row2\" >Fast Food</th>\n",
       "                        <td id=\"T_e5f16578_1ba1_11eb_bc93_02420a392981row2_col0\" class=\"data row2 col0\" >22.00</td>\n",
       "            </tr>\n",
       "            <tr>\n",
       "                        <th id=\"T_e5f16578_1ba1_11eb_bc93_02420a392981level0_row3\" class=\"row_heading level0 row3\" >Cafe</th>\n",
       "                        <td id=\"T_e5f16578_1ba1_11eb_bc93_02420a392981row3_col0\" class=\"data row3 col0\" >21.00</td>\n",
       "            </tr>\n",
       "            <tr>\n",
       "                        <th id=\"T_e5f16578_1ba1_11eb_bc93_02420a392981level0_row4\" class=\"row_heading level0 row4\" >Pizza</th>\n",
       "                        <td id=\"T_e5f16578_1ba1_11eb_bc93_02420a392981row4_col0\" class=\"data row4 col0\" >19.00</td>\n",
       "            </tr>\n",
       "            <tr>\n",
       "                        <th id=\"T_e5f16578_1ba1_11eb_bc93_02420a392981level0_row5\" class=\"row_heading level0 row5\" >Bakery</th>\n",
       "                        <td id=\"T_e5f16578_1ba1_11eb_bc93_02420a392981row5_col0\" class=\"data row5 col0\" >18.00</td>\n",
       "            </tr>\n",
       "    </tbody></table>"
      ],
      "text/plain": [
       "<pandas.io.formats.style.Styler at 0x7f0698d78450>"
      ]
     },
     "execution_count": 101,
     "metadata": {},
     "output_type": "execute_result"
    }
   ],
   "source": [
    "#calculating average number of seats for each type of restaurant\n",
    "avg_seats = df.pivot_table(index = 'object_type', values = 'number', aggfunc = 'median').sort_values(('number'), ascending=False)\n",
    "avg_seats.columns = ['n_seats']\n",
    "avg_seats.style.format({'n_seats': \"{:.2f}\"})"
   ]
  },
  {
   "cell_type": "markdown",
   "metadata": {},
   "source": [
    "I will take a median as average number of seats, because of the data have huge spread and median will be more accurate."
   ]
  },
  {
   "cell_type": "code",
   "execution_count": 102,
   "metadata": {},
   "outputs": [
    {
     "data": {
      "image/png": "[encoded data removed]",
      "text/plain": [
       "<Figure size 1008x576 with 1 Axes>"
      ]
     },
     "metadata": {
      "needs_background": "light"
     },
     "output_type": "display_data"
    }
   ],
   "source": [
    "#plotting a graph\n",
    "ax = avg_seats.plot(kind='bar', figsize=(14,8), legend=False)\n",
    "#putting text on the graph\n",
    "for p in ax.patches:\n",
    "    ax.annotate(format(p.get_height(), '.0f'), \n",
    "                   (p.get_x() + p.get_width() / 2., p.get_height()), \n",
    "                   ha = 'center', va = 'center', \n",
    "                   xytext = (0, 9), \n",
    "                   textcoords = 'offset points')\n",
    "#creating graph captions\n",
    "plt.xlabel('Establishments type')\n",
    "plt.ylabel('Average number of seats')\n",
    "plt.title('Average number of seats by establishments types', fontsize=16)\n",
    "plt.savefig('task5.png')\n",
    "plt.ylim(0, 40)\n",
    "plt.show()"
   ]
  },
  {
   "cell_type": "markdown",
   "metadata": {},
   "source": [
    "As we can see:\n",
    "- restaurants have 29 seats in average, bars - 28, fast food - 22, pizza - 19, cafe - 21 and bakery - 18.  \n",
    "\n",
    "This seems real. People spend more time in the restaurants and bars, also they celebrate birthdays, do banquets and weddings here, so it makes sense for them to have more seats in average."
   ]
  },
  {
   "cell_type": "markdown",
   "metadata": {},
   "source": [
    "[Back to the Table of Contents](#contents)"
   ]
  },
  {
   "cell_type": "markdown",
   "metadata": {},
   "source": [
    "#### 4.6 Plot a graph of the top ten streets by number of restaurants. <a class=\"anchor\" id=\"chapter17\"></a>"
   ]
  },
  {
   "cell_type": "code",
   "execution_count": 103,
   "metadata": {},
   "outputs": [],
   "source": [
    "#selecting top 10 streets by number of restaurants\n",
    "top_streets = df.clean_street.value_counts().head(10)\n",
    "top_streets.columns = ['n_restaurants']"
   ]
  },
  {
   "cell_type": "code",
   "execution_count": 104,
   "metadata": {},
   "outputs": [
    {
     "data": {
      "image/png": "[encoded data removed]",
      "text/plain": [
       "<Figure size 1120x640 with 1 Axes>"
      ]
     },
     "metadata": {
      "needs_background": "light"
     },
     "output_type": "display_data"
    }
   ],
   "source": [
    "#plotting a graph\n",
    "colors = ['#fdcb6e', '#0984e3', '#fd79a8', '#00b894', '#a29bfe', '#ff7675',\n",
    "          '#00cec9', '#b2bec3', '#e17055', '#6c5ce7']\n",
    "plt.figure(figsize=(14,8), dpi= 80)\n",
    "ax = top_streets.plot(kind='bar', color=colors, width=.5)\n",
    "\n",
    "for p in ax.patches:\n",
    "    ax.annotate(format(p.get_height(), '.0f'), \n",
    "                   (p.get_x() + p.get_width() / 2., p.get_height()), \n",
    "                   ha = 'center', va = 'center', \n",
    "                   xytext = (0, 9), \n",
    "                   textcoords = 'offset points')\n",
    "\n",
    "plt.gca().set_xticklabels(top_streets.keys(), rotation=60, horizontalalignment= 'right', fontsize=12)\n",
    "plt.title(\"Top 10 streets by number of restaurants\", fontsize=16)\n",
    "plt.ylabel('Number of the restaurants')\n",
    "plt.xlabel('Street name')\n",
    "plt.ylim(0, 450)\n",
    "plt.savefig('task6.png')\n",
    "plt.show()"
   ]
  },
  {
   "cell_type": "markdown",
   "metadata": {},
   "source": [
    "[Back to the Table of Contents](#contents)"
   ]
  },
  {
   "cell_type": "markdown",
   "metadata": {},
   "source": [
    "#### 4.7 Find the number of streets that only have one restaurant. <a class=\"anchor\" id=\"chapter18\"></a>"
   ]
  },
  {
   "cell_type": "code",
   "execution_count": 105,
   "metadata": {},
   "outputs": [
    {
     "data": {
      "text/html": [
       "<div>\n",
       "<style scoped>\n",
       "    .dataframe tbody tr th:only-of-type {\n",
       "        vertical-align: middle;\n",
       "    }\n",
       "\n",
       "    .dataframe tbody tr th {\n",
       "        vertical-align: top;\n",
       "    }\n",
       "\n",
       "    .dataframe thead th {\n",
       "        text-align: right;\n",
       "    }\n",
       "</style>\n",
       "<table border=\"1\" class=\"dataframe\">\n",
       "  <thead>\n",
       "    <tr style=\"text-align: right;\">\n",
       "      <th></th>\n",
       "      <th>number</th>\n",
       "    </tr>\n",
       "  </thead>\n",
       "  <tbody>\n",
       "    <tr>\n",
       "      <td>count</td>\n",
       "      <td>452.000000</td>\n",
       "    </tr>\n",
       "    <tr>\n",
       "      <td>mean</td>\n",
       "      <td>21.351770</td>\n",
       "    </tr>\n",
       "    <tr>\n",
       "      <td>std</td>\n",
       "      <td>55.439647</td>\n",
       "    </tr>\n",
       "    <tr>\n",
       "      <td>min</td>\n",
       "      <td>1.000000</td>\n",
       "    </tr>\n",
       "    <tr>\n",
       "      <td>25%</td>\n",
       "      <td>1.000000</td>\n",
       "    </tr>\n",
       "    <tr>\n",
       "      <td>50%</td>\n",
       "      <td>2.000000</td>\n",
       "    </tr>\n",
       "    <tr>\n",
       "      <td>75%</td>\n",
       "      <td>12.000000</td>\n",
       "    </tr>\n",
       "    <tr>\n",
       "      <td>max</td>\n",
       "      <td>405.000000</td>\n",
       "    </tr>\n",
       "  </tbody>\n",
       "</table>\n",
       "</div>"
      ],
      "text/plain": [
       "           number\n",
       "count  452.000000\n",
       "mean    21.351770\n",
       "std     55.439647\n",
       "min      1.000000\n",
       "25%      1.000000\n",
       "50%      2.000000\n",
       "75%     12.000000\n",
       "max    405.000000"
      ]
     },
     "execution_count": 105,
     "metadata": {},
     "output_type": "execute_result"
    }
   ],
   "source": [
    "#creating parameter with number of restaurants per streets\n",
    "rest_per_street = df.clean_street.value_counts().reset_index()\n",
    "rest_per_street.columns = ['clean_street', 'number']\n",
    "rest_per_street.describe()"
   ]
  },
  {
   "cell_type": "code",
   "execution_count": 106,
   "metadata": {},
   "outputs": [
    {
     "name": "stdout",
     "output_type": "stream",
     "text": [
      "Total number of streets: 452\n"
     ]
    }
   ],
   "source": [
    "#calculating total number of streets\n",
    "print('Total number of streets:', len(rest_per_street))"
   ]
  },
  {
   "cell_type": "code",
   "execution_count": 107,
   "metadata": {},
   "outputs": [
    {
     "data": {
      "image/png": "[encoded data removed]",
      "text/plain": [
       "<Figure size 864x432 with 1 Axes>"
      ]
     },
     "metadata": {
      "needs_background": "light"
     },
     "output_type": "display_data"
    }
   ],
   "source": [
    "plt.figure(figsize=(12,6)) \n",
    "rest_per_street.number.hist()\n",
    "plt.xlabel('Number of restaurants')\n",
    "plt.ylabel('Frequency')\n",
    "plt.title('Distribution of the number of restaurants per street', fontsize=16)\n",
    "plt.savefig('task7.png')\n",
    "plt.show()"
   ]
  },
  {
   "cell_type": "markdown",
   "metadata": {},
   "source": [
    "Looking at the general distribution of the number of establishment per street we see that most of the street have less than 40 restaurants.  \n",
    "Number of the restaurants range from 1 to 405 and have huge spread - 55 places.  \n",
    "75% of the street have 12 or less restaurants.  \n",
    "Median is 2.  \n",
    "Mean is 21.  \n",
    "We definitely have small amount of streets with a lot of restaurants:"
   ]
  },
  {
   "cell_type": "code",
   "execution_count": 108,
   "metadata": {},
   "outputs": [
    {
     "name": "stdout",
     "output_type": "stream",
     "text": [
      "Number of streets with more than twelve restaurants: 110\n",
      "Number of streets with more than forty restaurants: 58\n",
      "[ 57.   101.8  321.25]\n"
     ]
    }
   ],
   "source": [
    "print('Number of streets with more than twelve restaurants:', len(rest_per_street.query('number > 12')))\n",
    "print('Number of streets with more than forty restaurants:', len(rest_per_street.query('number > 40')))\n",
    "\n",
    "print(np.percentile(rest_per_street['number'], [90, 95, 99]))"
   ]
  },
  {
   "cell_type": "markdown",
   "metadata": {},
   "source": [
    "Not more than 5% of streets have more than 102 restaurants, 1% of the streets have 321 or more establishments.  "
   ]
  },
  {
   "cell_type": "code",
   "execution_count": 109,
   "metadata": {},
   "outputs": [
    {
     "name": "stdout",
     "output_type": "stream",
     "text": [
      "Number of streets that have only one restaurant: 178\n"
     ]
    }
   ],
   "source": [
    "#selecting streets with one restaurant\n",
    "one_rest = rest_per_street.query('number == 1')\n",
    "#calculating number of street with one restaurant\n",
    "print('Number of streets that have only one restaurant:', len(one_rest))"
   ]
  },
  {
   "cell_type": "markdown",
   "metadata": {},
   "source": [
    "[Back to the Table of Contents](#contents)"
   ]
  },
  {
   "cell_type": "markdown",
   "metadata": {},
   "source": [
    "#### 4.8 For streets with a lot of restaurants, look at the distribution of the number of seats. What trends can you see? <a class=\"anchor\" id=\"chapter19\"></a>"
   ]
  },
  {
   "cell_type": "code",
   "execution_count": 110,
   "metadata": {},
   "outputs": [],
   "source": [
    "#selecting name of the top streets\n",
    "top_streets = top_streets.reset_index()\n",
    "top_streets.columns = ['streets', 'n_restaurants']\n",
    "top_streets = top_streets.streets"
   ]
  },
  {
   "cell_type": "code",
   "execution_count": 111,
   "metadata": {},
   "outputs": [
    {
     "name": "stdout",
     "output_type": "stream",
     "text": [
      "[ 96.  123.6 153. ]\n"
     ]
    },
    {
     "data": {
      "text/plain": [
       "count    3255.000000\n",
       "mean       45.580952\n",
       "std        47.953119\n",
       "min         1.000000\n",
       "25%        15.000000\n",
       "50%        29.000000\n",
       "75%        47.000000\n",
       "max       229.000000\n",
       "Name: number, dtype: float64"
      ]
     },
     "execution_count": 111,
     "metadata": {},
     "output_type": "execute_result"
    }
   ],
   "source": [
    "top_dist = df.query('clean_street in@top_streets')\n",
    "print(np.percentile(top_dist['number'], [85, 90, 95]))\n",
    "top_dist.number.describe()"
   ]
  },
  {
   "cell_type": "markdown",
   "metadata": {},
   "source": [
    "Looking at the distribution of the number of seats for top 10 streets by number of restaurants, we see that most of the places have less than 47 seats.  \n",
    "Number of seats range from 1 to 229 and have huge spread - 47 places.  \n",
    "Median is 29  \n",
    "Mean is 45.5  \n",
    "Not a big difference from the general distribution, cause from 9651 restaurants and 452 streets in total 3255 restaurants locate on these 10 streets.   \n",
    "Let's check the distribution through different streets:"
   ]
  },
  {
   "cell_type": "code",
   "execution_count": 112,
   "metadata": {},
   "outputs": [
    {
     "data": {
      "image/png": "[encoded data removed]",
      "text/plain": [
       "<Figure size 1280x800 with 1 Axes>"
      ]
     },
     "metadata": {
      "needs_background": "light"
     },
     "output_type": "display_data"
    }
   ],
   "source": [
    "#let's check the distribution through different object types\n",
    "fig, ax = plt.subplots(figsize=(16,10), dpi= 80)    \n",
    "sns.violinplot(x=\"clean_street\", y=\"number\", data=top_dist, palette='rainbow')\n",
    "plt.xticks(rotation=45, fontsize = 12)\n",
    "plt.savefig('task8.png')\n",
    "plt.title('Distribution of the number of seats for top 10 streets by number of restaurants', fontsize=16)\n",
    "ax.set_xlabel('Street names')\n",
    "ax.set_ylabel('Number of seats')\n",
    "plt.show()"
   ]
  },
  {
   "cell_type": "markdown",
   "metadata": {},
   "source": [
    "We don't see big difference between distribution of the number of seats for these streets.  \n",
    "Most of the places have less than 50 seats.  \n",
    "Hollywood street has a bit more big restaurants, I assume that on this street more banquete halls.  \n",
    "On the 3rd, Figueroa, Pico and Monica streets a bit more small places, but again difference is not significant."
   ]
  },
  {
   "cell_type": "markdown",
   "metadata": {},
   "source": [
    "[Back to the Table of Contents](#contents)"
   ]
  },
  {
   "cell_type": "markdown",
   "metadata": {},
   "source": [
    "#### Overall conclusion <a class=\"anchor\" id=\"chapter20\"></a>"
   ]
  },
  {
   "cell_type": "markdown",
   "metadata": {},
   "source": [
    "*Task: Draw an overall conclusion and provide recommendations on restaurant type and number of seats. Comment on the possibility of developing a chain."
   ]
  },
  {
   "cell_type": "markdown",
   "metadata": {},
   "source": [
    "We analyzed data on restaurants in LA and found:  \n",
    "1) Establishment type:\n",
    "- LA has the most restaurants from the all types of establishments (74.9%); \n",
    "- Fast Food - 11.3%; \n",
    "- share of the other establishment types are less 5%.\n",
    "---\n",
    "2) Chain/non-chain restaurants:\n",
    "- 58.5% percentage of the market cover non-chain establishments;\n",
    "- all LA bakeries are chains;\n",
    "- 65% of cafe are chains;\n",
    "- 63% of fast foods are chains too;\n",
    "- 54.6% of pizza places are chain;\n",
    "- only third part of bars and restaurants work as a part of the chain.\n",
    "---\n",
    "3) Number of seats:\n",
    "- majority of the places have less than 50 seats;\n",
    "- fast food and restaurant type have more places with a lot of seats than other types;\n",
    "- restaurants have 29 seats in average, bars - 28, fast food - 22, pizza - 19, cafe - 21 and bakery - 18;\n",
    "- average number of seats for chain cafe is a bit higher than for non-chain cafe;\n",
    "- distribution of the number of seats for top 10 streets by number of restaurants don't have significant difference from general distribution.\n",
    "---\n",
    "4) Location:\n",
    "- most of the street have less than 40 restaurants;\n",
    "- not more than 5% of streets have more than 102 restaurants, 1% of the streets have 321 or more establishments;\n",
    "- number of streets that have only one restaurant: 178;\n",
    "- number of streets with more than forty restaurants: 58.\n",
    "---\n",
    "**Recommendation:**  \n",
    "According to our goal (open a small robot-run cafe in Los Angeles) and results of analysis I can reccomend:\n",
    "- open a small cafe with 20-30 seats, cause this is most popular size of the cafe in LA;  \n",
    "  \n",
    "  \n",
    "- the perfect location for our cafe is one of the streets with big amount of the restaurants, I assume that these streets have a good location and hight human traffic, this is exactly what we need. We will bet that our unusual idea for cafe can attract people and busy location exactly what do we need;  \n",
    "  \n",
    "  \n",
    "- we have 65% of the chain cafe, I assume that this is popular, therefore I can recommend to consider opening a chain, it also can help to maintain success when idea become old, cause our brand will be recognizer by people. "
   ]
  },
  {
   "cell_type": "markdown",
   "metadata": {},
   "source": [
    "[Back to the Table of Contents](#contents)"
   ]
  },
  {
   "cell_type": "markdown",
   "metadata": {},
   "source": [
    "### 5. Presentation <a class=\"anchor\" id=\"chapter22\"></a>"
   ]
  },
  {
   "cell_type": "markdown",
   "metadata": {},
   "source": [
    "link:\n",
    "https://drive.google.com/file/d/1Yoc2K_UzYmYN2Lbgpc3IsbPVHQ-9Usqs/view?usp=sharing"
   ]
  },
  {
   "cell_type": "markdown",
   "metadata": {},
   "source": [
    "[Back to the Table of Contents](#contents)"
   ]
  }
 ],
 "metadata": {
  "kernelspec": {
   "display_name": "Python 3",
   "language": "python",
   "name": "python3"
  },
  "language_info": {
   "codemirror_mode": {
    "name": "ipython",
    "version": 3
   },
   "file_extension": ".py",
   "mimetype": "text/x-python",
   "name": "python",
   "nbconvert_exporter": "python",
   "pygments_lexer": "ipython3",
   "version": "3.7.6"
  }
 },
 "nbformat": 4,
 "nbformat_minor": 4
}
